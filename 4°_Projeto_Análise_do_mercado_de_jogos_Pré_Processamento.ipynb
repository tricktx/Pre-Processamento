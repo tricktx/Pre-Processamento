{
  "nbformat": 4,
  "nbformat_minor": 0,
  "metadata": {
    "colab": {
      "name": "4° Projeto - Análise do mercado de jogos - Pré-Processamento.ipynb",
      "provenance": [],
      "collapsed_sections": [
        "9eg-0mEd2A44",
        "x3jNnJ0N2Gwq",
        "vZrlpJjqnHfJ",
        "GZDRQv7Az_tj",
        "GB8lOU4gpNPg",
        "r7aRLlZCzQUQ",
        "Z99okcUIzUp7",
        "bzf3sDo8zcWB",
        "wfJtfexVzhrD",
        "5upDQZ3xsyj7",
        "_wEpjeMJyTy-"
      ],
      "authorship_tag": "ABX9TyMyEWeIphsKmzQ8nAOd7m2q",
      "include_colab_link": true
    },
    "kernelspec": {
      "name": "python3",
      "display_name": "Python 3"
    },
    "language_info": {
      "name": "python"
    }
  },
  "cells": [
    {
      "cell_type": "markdown",
      "metadata": {
        "id": "view-in-github",
        "colab_type": "text"
      },
      "source": [
        "<a href=\"https://colab.research.google.com/github/tricktx/Pre-Processamento/blob/main/4%C2%B0_Projeto_An%C3%A1lise_do_mercado_de_jogos_Pr%C3%A9_Processamento.ipynb\" target=\"_parent\"><img src=\"https://colab.research.google.com/assets/colab-badge.svg\" alt=\"Open In Colab\"/></a>"
      ]
    },
    {
      "cell_type": "markdown",
      "source": [
        "## Importando as devidas bibliotecas.\n",
        "\n"
      ],
      "metadata": {
        "id": "9eg-0mEd2A44"
      }
    },
    {
      "cell_type": "code",
      "execution_count": null,
      "metadata": {
        "id": "riEd_q-x0avW"
      },
      "outputs": [],
      "source": [
        "#Importando bibliotecas\n",
        "\n",
        "import pandas as pd #Fornece estruturas de dados de alto nível e uma grande variedade de ferramentas para análise.\n",
        "import numpy as np #Processamento de grandes matrizes e matrizes multidimensionais\n",
        "\n",
        "##Visualização Gráfica\n",
        "import matplotlib.pyplot as plt #Criação de diagramas e gráficos bidimensionais\n",
        "import seaborn as sns #Há uma rica galeria de visualizações, incluindo alguns tipos complexos, como séries temporais e etc.\n",
        "import plotly.express as px #Permite construir facilmente gráficos sofisticados, como gráficos 3D, gráficos ternários e etc.\n",
        "import plotly.graph_objects as go"
      ]
    },
    {
      "cell_type": "markdown",
      "source": [
        "## Usando o pandas para trazer a base de dados em csv e analisando a base."
      ],
      "metadata": {
        "id": "x3jNnJ0N2Gwq"
      }
    },
    {
      "cell_type": "code",
      "source": [
        "df = pd.read_csv('/content/PS4_GamesSales.csv', header=0, encoding='unicode_escape')\n",
        "df"
      ],
      "metadata": {
        "colab": {
          "base_uri": "https://localhost:8080/"
        },
        "id": "5JSZ4a1U0nZ1",
        "outputId": "4ccfd2d3-38c9-4fe5-ecca-69a1a2818b00"
      },
      "execution_count": null,
      "outputs": [
        {
          "output_type": "execute_result",
          "data": {
            "text/plain": [
              "                                    Game    Year             Genre  \\\n",
              "0                     Grand Theft Auto V  2014.0            Action   \n",
              "1              Call of Duty: Black Ops 3  2015.0           Shooter   \n",
              "2                  Red Dead Redemption 2  2018.0  Action-Adventure   \n",
              "3                     Call of Duty: WWII  2017.0           Shooter   \n",
              "4                                FIFA 18  2017.0            Sports   \n",
              "...                                  ...     ...               ...   \n",
              "1029  Fallen Legion: Flames of Rebellion     NaN      Role-Playing   \n",
              "1030            Radial G Racing Revolved  2017.0            Racing   \n",
              "1031                The Mummy Demastered     NaN            Action   \n",
              "1032          Project Nimbus: Code Mirai     NaN            Action   \n",
              "1033                 Battle Chef Brigade     NaN            Action   \n",
              "\n",
              "           Publisher  North America  Europe  Japan  Rest of World  Global  \n",
              "0     Rockstar Games           6.06    9.71   0.60           3.02   19.39  \n",
              "1         Activision           6.18    6.05   0.41           2.44   15.09  \n",
              "2     Rockstar Games           5.26    6.21   0.21           2.26   13.94  \n",
              "3         Activision           4.67    6.21   0.40           2.12   13.40  \n",
              "4          EA Sports           1.27    8.64   0.15           1.73   11.80  \n",
              "...              ...            ...     ...    ...            ...     ...  \n",
              "1029             NaN           0.00    0.00   0.00           0.00    0.00  \n",
              "1030   Tammeka Games           0.00    0.00   0.00           0.00    0.00  \n",
              "1031             NaN           0.00    0.00   0.00           0.00    0.00  \n",
              "1032             NaN           0.00    0.00   0.00           0.00    0.00  \n",
              "1033             NaN           0.00    0.00   0.00           0.00    0.00  \n",
              "\n",
              "[1034 rows x 9 columns]"
            ],
            "text/html": [
              "\n",
              "  <div id=\"df-b2983f19-1372-4be2-8974-55f76b6f15e6\">\n",
              "    <div class=\"colab-df-container\">\n",
              "      <div>\n",
              "<style scoped>\n",
              "    .dataframe tbody tr th:only-of-type {\n",
              "        vertical-align: middle;\n",
              "    }\n",
              "\n",
              "    .dataframe tbody tr th {\n",
              "        vertical-align: top;\n",
              "    }\n",
              "\n",
              "    .dataframe thead th {\n",
              "        text-align: right;\n",
              "    }\n",
              "</style>\n",
              "<table border=\"1\" class=\"dataframe\">\n",
              "  <thead>\n",
              "    <tr style=\"text-align: right;\">\n",
              "      <th></th>\n",
              "      <th>Game</th>\n",
              "      <th>Year</th>\n",
              "      <th>Genre</th>\n",
              "      <th>Publisher</th>\n",
              "      <th>North America</th>\n",
              "      <th>Europe</th>\n",
              "      <th>Japan</th>\n",
              "      <th>Rest of World</th>\n",
              "      <th>Global</th>\n",
              "    </tr>\n",
              "  </thead>\n",
              "  <tbody>\n",
              "    <tr>\n",
              "      <th>0</th>\n",
              "      <td>Grand Theft Auto V</td>\n",
              "      <td>2014.0</td>\n",
              "      <td>Action</td>\n",
              "      <td>Rockstar Games</td>\n",
              "      <td>6.06</td>\n",
              "      <td>9.71</td>\n",
              "      <td>0.60</td>\n",
              "      <td>3.02</td>\n",
              "      <td>19.39</td>\n",
              "    </tr>\n",
              "    <tr>\n",
              "      <th>1</th>\n",
              "      <td>Call of Duty: Black Ops 3</td>\n",
              "      <td>2015.0</td>\n",
              "      <td>Shooter</td>\n",
              "      <td>Activision</td>\n",
              "      <td>6.18</td>\n",
              "      <td>6.05</td>\n",
              "      <td>0.41</td>\n",
              "      <td>2.44</td>\n",
              "      <td>15.09</td>\n",
              "    </tr>\n",
              "    <tr>\n",
              "      <th>2</th>\n",
              "      <td>Red Dead Redemption 2</td>\n",
              "      <td>2018.0</td>\n",
              "      <td>Action-Adventure</td>\n",
              "      <td>Rockstar Games</td>\n",
              "      <td>5.26</td>\n",
              "      <td>6.21</td>\n",
              "      <td>0.21</td>\n",
              "      <td>2.26</td>\n",
              "      <td>13.94</td>\n",
              "    </tr>\n",
              "    <tr>\n",
              "      <th>3</th>\n",
              "      <td>Call of Duty: WWII</td>\n",
              "      <td>2017.0</td>\n",
              "      <td>Shooter</td>\n",
              "      <td>Activision</td>\n",
              "      <td>4.67</td>\n",
              "      <td>6.21</td>\n",
              "      <td>0.40</td>\n",
              "      <td>2.12</td>\n",
              "      <td>13.40</td>\n",
              "    </tr>\n",
              "    <tr>\n",
              "      <th>4</th>\n",
              "      <td>FIFA 18</td>\n",
              "      <td>2017.0</td>\n",
              "      <td>Sports</td>\n",
              "      <td>EA Sports</td>\n",
              "      <td>1.27</td>\n",
              "      <td>8.64</td>\n",
              "      <td>0.15</td>\n",
              "      <td>1.73</td>\n",
              "      <td>11.80</td>\n",
              "    </tr>\n",
              "    <tr>\n",
              "      <th>...</th>\n",
              "      <td>...</td>\n",
              "      <td>...</td>\n",
              "      <td>...</td>\n",
              "      <td>...</td>\n",
              "      <td>...</td>\n",
              "      <td>...</td>\n",
              "      <td>...</td>\n",
              "      <td>...</td>\n",
              "      <td>...</td>\n",
              "    </tr>\n",
              "    <tr>\n",
              "      <th>1029</th>\n",
              "      <td>Fallen Legion: Flames of Rebellion</td>\n",
              "      <td>NaN</td>\n",
              "      <td>Role-Playing</td>\n",
              "      <td>NaN</td>\n",
              "      <td>0.00</td>\n",
              "      <td>0.00</td>\n",
              "      <td>0.00</td>\n",
              "      <td>0.00</td>\n",
              "      <td>0.00</td>\n",
              "    </tr>\n",
              "    <tr>\n",
              "      <th>1030</th>\n",
              "      <td>Radial G Racing Revolved</td>\n",
              "      <td>2017.0</td>\n",
              "      <td>Racing</td>\n",
              "      <td>Tammeka Games</td>\n",
              "      <td>0.00</td>\n",
              "      <td>0.00</td>\n",
              "      <td>0.00</td>\n",
              "      <td>0.00</td>\n",
              "      <td>0.00</td>\n",
              "    </tr>\n",
              "    <tr>\n",
              "      <th>1031</th>\n",
              "      <td>The Mummy Demastered</td>\n",
              "      <td>NaN</td>\n",
              "      <td>Action</td>\n",
              "      <td>NaN</td>\n",
              "      <td>0.00</td>\n",
              "      <td>0.00</td>\n",
              "      <td>0.00</td>\n",
              "      <td>0.00</td>\n",
              "      <td>0.00</td>\n",
              "    </tr>\n",
              "    <tr>\n",
              "      <th>1032</th>\n",
              "      <td>Project Nimbus: Code Mirai</td>\n",
              "      <td>NaN</td>\n",
              "      <td>Action</td>\n",
              "      <td>NaN</td>\n",
              "      <td>0.00</td>\n",
              "      <td>0.00</td>\n",
              "      <td>0.00</td>\n",
              "      <td>0.00</td>\n",
              "      <td>0.00</td>\n",
              "    </tr>\n",
              "    <tr>\n",
              "      <th>1033</th>\n",
              "      <td>Battle Chef Brigade</td>\n",
              "      <td>NaN</td>\n",
              "      <td>Action</td>\n",
              "      <td>NaN</td>\n",
              "      <td>0.00</td>\n",
              "      <td>0.00</td>\n",
              "      <td>0.00</td>\n",
              "      <td>0.00</td>\n",
              "      <td>0.00</td>\n",
              "    </tr>\n",
              "  </tbody>\n",
              "</table>\n",
              "<p>1034 rows × 9 columns</p>\n",
              "</div>\n",
              "      <button class=\"colab-df-convert\" onclick=\"convertToInteractive('df-b2983f19-1372-4be2-8974-55f76b6f15e6')\"\n",
              "              title=\"Convert this dataframe to an interactive table.\"\n",
              "              style=\"display:none;\">\n",
              "        \n",
              "  <svg xmlns=\"http://www.w3.org/2000/svg\" height=\"24px\"viewBox=\"0 0 24 24\"\n",
              "       width=\"24px\">\n",
              "    <path d=\"M0 0h24v24H0V0z\" fill=\"none\"/>\n",
              "    <path d=\"M18.56 5.44l.94 2.06.94-2.06 2.06-.94-2.06-.94-.94-2.06-.94 2.06-2.06.94zm-11 1L8.5 8.5l.94-2.06 2.06-.94-2.06-.94L8.5 2.5l-.94 2.06-2.06.94zm10 10l.94 2.06.94-2.06 2.06-.94-2.06-.94-.94-2.06-.94 2.06-2.06.94z\"/><path d=\"M17.41 7.96l-1.37-1.37c-.4-.4-.92-.59-1.43-.59-.52 0-1.04.2-1.43.59L10.3 9.45l-7.72 7.72c-.78.78-.78 2.05 0 2.83L4 21.41c.39.39.9.59 1.41.59.51 0 1.02-.2 1.41-.59l7.78-7.78 2.81-2.81c.8-.78.8-2.07 0-2.86zM5.41 20L4 18.59l7.72-7.72 1.47 1.35L5.41 20z\"/>\n",
              "  </svg>\n",
              "      </button>\n",
              "      \n",
              "  <style>\n",
              "    .colab-df-container {\n",
              "      display:flex;\n",
              "      flex-wrap:wrap;\n",
              "      gap: 12px;\n",
              "    }\n",
              "\n",
              "    .colab-df-convert {\n",
              "      background-color: #E8F0FE;\n",
              "      border: none;\n",
              "      border-radius: 50%;\n",
              "      cursor: pointer;\n",
              "      display: none;\n",
              "      fill: #1967D2;\n",
              "      height: 32px;\n",
              "      padding: 0 0 0 0;\n",
              "      width: 32px;\n",
              "    }\n",
              "\n",
              "    .colab-df-convert:hover {\n",
              "      background-color: #E2EBFA;\n",
              "      box-shadow: 0px 1px 2px rgba(60, 64, 67, 0.3), 0px 1px 3px 1px rgba(60, 64, 67, 0.15);\n",
              "      fill: #174EA6;\n",
              "    }\n",
              "\n",
              "    [theme=dark] .colab-df-convert {\n",
              "      background-color: #3B4455;\n",
              "      fill: #D2E3FC;\n",
              "    }\n",
              "\n",
              "    [theme=dark] .colab-df-convert:hover {\n",
              "      background-color: #434B5C;\n",
              "      box-shadow: 0px 1px 3px 1px rgba(0, 0, 0, 0.15);\n",
              "      filter: drop-shadow(0px 1px 2px rgba(0, 0, 0, 0.3));\n",
              "      fill: #FFFFFF;\n",
              "    }\n",
              "  </style>\n",
              "\n",
              "      <script>\n",
              "        const buttonEl =\n",
              "          document.querySelector('#df-b2983f19-1372-4be2-8974-55f76b6f15e6 button.colab-df-convert');\n",
              "        buttonEl.style.display =\n",
              "          google.colab.kernel.accessAllowed ? 'block' : 'none';\n",
              "\n",
              "        async function convertToInteractive(key) {\n",
              "          const element = document.querySelector('#df-b2983f19-1372-4be2-8974-55f76b6f15e6');\n",
              "          const dataTable =\n",
              "            await google.colab.kernel.invokeFunction('convertToInteractive',\n",
              "                                                     [key], {});\n",
              "          if (!dataTable) return;\n",
              "\n",
              "          const docLinkHtml = 'Like what you see? Visit the ' +\n",
              "            '<a target=\"_blank\" href=https://colab.research.google.com/notebooks/data_table.ipynb>data table notebook</a>'\n",
              "            + ' to learn more about interactive tables.';\n",
              "          element.innerHTML = '';\n",
              "          dataTable['output_type'] = 'display_data';\n",
              "          await google.colab.output.renderOutput(dataTable, element);\n",
              "          const docLink = document.createElement('div');\n",
              "          docLink.innerHTML = docLinkHtml;\n",
              "          element.appendChild(docLink);\n",
              "        }\n",
              "      </script>\n",
              "    </div>\n",
              "  </div>\n",
              "  "
            ]
          },
          "metadata": {},
          "execution_count": 58
        }
      ]
    },
    {
      "cell_type": "code",
      "source": [
        "df.tail()"
      ],
      "metadata": {
        "colab": {
          "base_uri": "https://localhost:8080/"
        },
        "id": "FLsr5ww-rNnk",
        "outputId": "e9d1f514-69f8-4b1a-bd5e-217978f85645"
      },
      "execution_count": null,
      "outputs": [
        {
          "output_type": "execute_result",
          "data": {
            "text/plain": [
              "                                    Game    Year         Genre      Publisher  \\\n",
              "1029  Fallen Legion: Flames of Rebellion     NaN  Role-Playing            NaN   \n",
              "1030            Radial G Racing Revolved  2017.0        Racing  Tammeka Games   \n",
              "1031                The Mummy Demastered     NaN        Action            NaN   \n",
              "1032          Project Nimbus: Code Mirai     NaN        Action            NaN   \n",
              "1033                 Battle Chef Brigade     NaN        Action            NaN   \n",
              "\n",
              "      North America  Europe  Japan  Rest of World  Global  \n",
              "1029            0.0     0.0    0.0            0.0     0.0  \n",
              "1030            0.0     0.0    0.0            0.0     0.0  \n",
              "1031            0.0     0.0    0.0            0.0     0.0  \n",
              "1032            0.0     0.0    0.0            0.0     0.0  \n",
              "1033            0.0     0.0    0.0            0.0     0.0  "
            ],
            "text/html": [
              "\n",
              "  <div id=\"df-3299d94c-4e96-42d1-9a50-e6618942620b\">\n",
              "    <div class=\"colab-df-container\">\n",
              "      <div>\n",
              "<style scoped>\n",
              "    .dataframe tbody tr th:only-of-type {\n",
              "        vertical-align: middle;\n",
              "    }\n",
              "\n",
              "    .dataframe tbody tr th {\n",
              "        vertical-align: top;\n",
              "    }\n",
              "\n",
              "    .dataframe thead th {\n",
              "        text-align: right;\n",
              "    }\n",
              "</style>\n",
              "<table border=\"1\" class=\"dataframe\">\n",
              "  <thead>\n",
              "    <tr style=\"text-align: right;\">\n",
              "      <th></th>\n",
              "      <th>Game</th>\n",
              "      <th>Year</th>\n",
              "      <th>Genre</th>\n",
              "      <th>Publisher</th>\n",
              "      <th>North America</th>\n",
              "      <th>Europe</th>\n",
              "      <th>Japan</th>\n",
              "      <th>Rest of World</th>\n",
              "      <th>Global</th>\n",
              "    </tr>\n",
              "  </thead>\n",
              "  <tbody>\n",
              "    <tr>\n",
              "      <th>1029</th>\n",
              "      <td>Fallen Legion: Flames of Rebellion</td>\n",
              "      <td>NaN</td>\n",
              "      <td>Role-Playing</td>\n",
              "      <td>NaN</td>\n",
              "      <td>0.0</td>\n",
              "      <td>0.0</td>\n",
              "      <td>0.0</td>\n",
              "      <td>0.0</td>\n",
              "      <td>0.0</td>\n",
              "    </tr>\n",
              "    <tr>\n",
              "      <th>1030</th>\n",
              "      <td>Radial G Racing Revolved</td>\n",
              "      <td>2017.0</td>\n",
              "      <td>Racing</td>\n",
              "      <td>Tammeka Games</td>\n",
              "      <td>0.0</td>\n",
              "      <td>0.0</td>\n",
              "      <td>0.0</td>\n",
              "      <td>0.0</td>\n",
              "      <td>0.0</td>\n",
              "    </tr>\n",
              "    <tr>\n",
              "      <th>1031</th>\n",
              "      <td>The Mummy Demastered</td>\n",
              "      <td>NaN</td>\n",
              "      <td>Action</td>\n",
              "      <td>NaN</td>\n",
              "      <td>0.0</td>\n",
              "      <td>0.0</td>\n",
              "      <td>0.0</td>\n",
              "      <td>0.0</td>\n",
              "      <td>0.0</td>\n",
              "    </tr>\n",
              "    <tr>\n",
              "      <th>1032</th>\n",
              "      <td>Project Nimbus: Code Mirai</td>\n",
              "      <td>NaN</td>\n",
              "      <td>Action</td>\n",
              "      <td>NaN</td>\n",
              "      <td>0.0</td>\n",
              "      <td>0.0</td>\n",
              "      <td>0.0</td>\n",
              "      <td>0.0</td>\n",
              "      <td>0.0</td>\n",
              "    </tr>\n",
              "    <tr>\n",
              "      <th>1033</th>\n",
              "      <td>Battle Chef Brigade</td>\n",
              "      <td>NaN</td>\n",
              "      <td>Action</td>\n",
              "      <td>NaN</td>\n",
              "      <td>0.0</td>\n",
              "      <td>0.0</td>\n",
              "      <td>0.0</td>\n",
              "      <td>0.0</td>\n",
              "      <td>0.0</td>\n",
              "    </tr>\n",
              "  </tbody>\n",
              "</table>\n",
              "</div>\n",
              "      <button class=\"colab-df-convert\" onclick=\"convertToInteractive('df-3299d94c-4e96-42d1-9a50-e6618942620b')\"\n",
              "              title=\"Convert this dataframe to an interactive table.\"\n",
              "              style=\"display:none;\">\n",
              "        \n",
              "  <svg xmlns=\"http://www.w3.org/2000/svg\" height=\"24px\"viewBox=\"0 0 24 24\"\n",
              "       width=\"24px\">\n",
              "    <path d=\"M0 0h24v24H0V0z\" fill=\"none\"/>\n",
              "    <path d=\"M18.56 5.44l.94 2.06.94-2.06 2.06-.94-2.06-.94-.94-2.06-.94 2.06-2.06.94zm-11 1L8.5 8.5l.94-2.06 2.06-.94-2.06-.94L8.5 2.5l-.94 2.06-2.06.94zm10 10l.94 2.06.94-2.06 2.06-.94-2.06-.94-.94-2.06-.94 2.06-2.06.94z\"/><path d=\"M17.41 7.96l-1.37-1.37c-.4-.4-.92-.59-1.43-.59-.52 0-1.04.2-1.43.59L10.3 9.45l-7.72 7.72c-.78.78-.78 2.05 0 2.83L4 21.41c.39.39.9.59 1.41.59.51 0 1.02-.2 1.41-.59l7.78-7.78 2.81-2.81c.8-.78.8-2.07 0-2.86zM5.41 20L4 18.59l7.72-7.72 1.47 1.35L5.41 20z\"/>\n",
              "  </svg>\n",
              "      </button>\n",
              "      \n",
              "  <style>\n",
              "    .colab-df-container {\n",
              "      display:flex;\n",
              "      flex-wrap:wrap;\n",
              "      gap: 12px;\n",
              "    }\n",
              "\n",
              "    .colab-df-convert {\n",
              "      background-color: #E8F0FE;\n",
              "      border: none;\n",
              "      border-radius: 50%;\n",
              "      cursor: pointer;\n",
              "      display: none;\n",
              "      fill: #1967D2;\n",
              "      height: 32px;\n",
              "      padding: 0 0 0 0;\n",
              "      width: 32px;\n",
              "    }\n",
              "\n",
              "    .colab-df-convert:hover {\n",
              "      background-color: #E2EBFA;\n",
              "      box-shadow: 0px 1px 2px rgba(60, 64, 67, 0.3), 0px 1px 3px 1px rgba(60, 64, 67, 0.15);\n",
              "      fill: #174EA6;\n",
              "    }\n",
              "\n",
              "    [theme=dark] .colab-df-convert {\n",
              "      background-color: #3B4455;\n",
              "      fill: #D2E3FC;\n",
              "    }\n",
              "\n",
              "    [theme=dark] .colab-df-convert:hover {\n",
              "      background-color: #434B5C;\n",
              "      box-shadow: 0px 1px 3px 1px rgba(0, 0, 0, 0.15);\n",
              "      filter: drop-shadow(0px 1px 2px rgba(0, 0, 0, 0.3));\n",
              "      fill: #FFFFFF;\n",
              "    }\n",
              "  </style>\n",
              "\n",
              "      <script>\n",
              "        const buttonEl =\n",
              "          document.querySelector('#df-3299d94c-4e96-42d1-9a50-e6618942620b button.colab-df-convert');\n",
              "        buttonEl.style.display =\n",
              "          google.colab.kernel.accessAllowed ? 'block' : 'none';\n",
              "\n",
              "        async function convertToInteractive(key) {\n",
              "          const element = document.querySelector('#df-3299d94c-4e96-42d1-9a50-e6618942620b');\n",
              "          const dataTable =\n",
              "            await google.colab.kernel.invokeFunction('convertToInteractive',\n",
              "                                                     [key], {});\n",
              "          if (!dataTable) return;\n",
              "\n",
              "          const docLinkHtml = 'Like what you see? Visit the ' +\n",
              "            '<a target=\"_blank\" href=https://colab.research.google.com/notebooks/data_table.ipynb>data table notebook</a>'\n",
              "            + ' to learn more about interactive tables.';\n",
              "          element.innerHTML = '';\n",
              "          dataTable['output_type'] = 'display_data';\n",
              "          await google.colab.output.renderOutput(dataTable, element);\n",
              "          const docLink = document.createElement('div');\n",
              "          docLink.innerHTML = docLinkHtml;\n",
              "          element.appendChild(docLink);\n",
              "        }\n",
              "      </script>\n",
              "    </div>\n",
              "  </div>\n",
              "  "
            ]
          },
          "metadata": {},
          "execution_count": 59
        }
      ]
    },
    {
      "cell_type": "markdown",
      "source": [
        "# Pré Processamento"
      ],
      "metadata": {
        "id": "vZrlpJjqnHfJ"
      }
    },
    {
      "cell_type": "code",
      "source": [
        "# Renomeando as colunas\n",
        "\n",
        "df.rename(columns={\n",
        "    'Game' : 'Jogos',\n",
        "    'Year' : 'Ano de lançamento',\n",
        "    'Genre' : 'Gênero',\n",
        "    'Publisher' : 'Empresa',\n",
        "    'North America' : 'EUA',\n",
        "    'Europe' : 'Europa',\n",
        "    'Japan' : 'Japão',\n",
        "    'Rest of World' : 'Restante do mundo'\n",
        "}, inplace=True)\n",
        "df.head()"
      ],
      "metadata": {
        "colab": {
          "base_uri": "https://localhost:8080/"
        },
        "id": "LPcOTv3F8uKU",
        "outputId": "e070220c-7d28-4a06-eb8f-0e8e1553b9ca"
      },
      "execution_count": null,
      "outputs": [
        {
          "output_type": "execute_result",
          "data": {
            "text/plain": [
              "                       Jogos  Ano de lançamento            Gênero  \\\n",
              "0         Grand Theft Auto V             2014.0            Action   \n",
              "1  Call of Duty: Black Ops 3             2015.0           Shooter   \n",
              "2      Red Dead Redemption 2             2018.0  Action-Adventure   \n",
              "3         Call of Duty: WWII             2017.0           Shooter   \n",
              "4                    FIFA 18             2017.0            Sports   \n",
              "\n",
              "          Empresa   EUA  Europa  Japão  Restante do mundo  Global  \n",
              "0  Rockstar Games  6.06    9.71   0.60               3.02   19.39  \n",
              "1      Activision  6.18    6.05   0.41               2.44   15.09  \n",
              "2  Rockstar Games  5.26    6.21   0.21               2.26   13.94  \n",
              "3      Activision  4.67    6.21   0.40               2.12   13.40  \n",
              "4       EA Sports  1.27    8.64   0.15               1.73   11.80  "
            ],
            "text/html": [
              "\n",
              "  <div id=\"df-a5f24691-5c5f-40f0-84b1-1983a5c4565a\">\n",
              "    <div class=\"colab-df-container\">\n",
              "      <div>\n",
              "<style scoped>\n",
              "    .dataframe tbody tr th:only-of-type {\n",
              "        vertical-align: middle;\n",
              "    }\n",
              "\n",
              "    .dataframe tbody tr th {\n",
              "        vertical-align: top;\n",
              "    }\n",
              "\n",
              "    .dataframe thead th {\n",
              "        text-align: right;\n",
              "    }\n",
              "</style>\n",
              "<table border=\"1\" class=\"dataframe\">\n",
              "  <thead>\n",
              "    <tr style=\"text-align: right;\">\n",
              "      <th></th>\n",
              "      <th>Jogos</th>\n",
              "      <th>Ano de lançamento</th>\n",
              "      <th>Gênero</th>\n",
              "      <th>Empresa</th>\n",
              "      <th>EUA</th>\n",
              "      <th>Europa</th>\n",
              "      <th>Japão</th>\n",
              "      <th>Restante do mundo</th>\n",
              "      <th>Global</th>\n",
              "    </tr>\n",
              "  </thead>\n",
              "  <tbody>\n",
              "    <tr>\n",
              "      <th>0</th>\n",
              "      <td>Grand Theft Auto V</td>\n",
              "      <td>2014.0</td>\n",
              "      <td>Action</td>\n",
              "      <td>Rockstar Games</td>\n",
              "      <td>6.06</td>\n",
              "      <td>9.71</td>\n",
              "      <td>0.60</td>\n",
              "      <td>3.02</td>\n",
              "      <td>19.39</td>\n",
              "    </tr>\n",
              "    <tr>\n",
              "      <th>1</th>\n",
              "      <td>Call of Duty: Black Ops 3</td>\n",
              "      <td>2015.0</td>\n",
              "      <td>Shooter</td>\n",
              "      <td>Activision</td>\n",
              "      <td>6.18</td>\n",
              "      <td>6.05</td>\n",
              "      <td>0.41</td>\n",
              "      <td>2.44</td>\n",
              "      <td>15.09</td>\n",
              "    </tr>\n",
              "    <tr>\n",
              "      <th>2</th>\n",
              "      <td>Red Dead Redemption 2</td>\n",
              "      <td>2018.0</td>\n",
              "      <td>Action-Adventure</td>\n",
              "      <td>Rockstar Games</td>\n",
              "      <td>5.26</td>\n",
              "      <td>6.21</td>\n",
              "      <td>0.21</td>\n",
              "      <td>2.26</td>\n",
              "      <td>13.94</td>\n",
              "    </tr>\n",
              "    <tr>\n",
              "      <th>3</th>\n",
              "      <td>Call of Duty: WWII</td>\n",
              "      <td>2017.0</td>\n",
              "      <td>Shooter</td>\n",
              "      <td>Activision</td>\n",
              "      <td>4.67</td>\n",
              "      <td>6.21</td>\n",
              "      <td>0.40</td>\n",
              "      <td>2.12</td>\n",
              "      <td>13.40</td>\n",
              "    </tr>\n",
              "    <tr>\n",
              "      <th>4</th>\n",
              "      <td>FIFA 18</td>\n",
              "      <td>2017.0</td>\n",
              "      <td>Sports</td>\n",
              "      <td>EA Sports</td>\n",
              "      <td>1.27</td>\n",
              "      <td>8.64</td>\n",
              "      <td>0.15</td>\n",
              "      <td>1.73</td>\n",
              "      <td>11.80</td>\n",
              "    </tr>\n",
              "  </tbody>\n",
              "</table>\n",
              "</div>\n",
              "      <button class=\"colab-df-convert\" onclick=\"convertToInteractive('df-a5f24691-5c5f-40f0-84b1-1983a5c4565a')\"\n",
              "              title=\"Convert this dataframe to an interactive table.\"\n",
              "              style=\"display:none;\">\n",
              "        \n",
              "  <svg xmlns=\"http://www.w3.org/2000/svg\" height=\"24px\"viewBox=\"0 0 24 24\"\n",
              "       width=\"24px\">\n",
              "    <path d=\"M0 0h24v24H0V0z\" fill=\"none\"/>\n",
              "    <path d=\"M18.56 5.44l.94 2.06.94-2.06 2.06-.94-2.06-.94-.94-2.06-.94 2.06-2.06.94zm-11 1L8.5 8.5l.94-2.06 2.06-.94-2.06-.94L8.5 2.5l-.94 2.06-2.06.94zm10 10l.94 2.06.94-2.06 2.06-.94-2.06-.94-.94-2.06-.94 2.06-2.06.94z\"/><path d=\"M17.41 7.96l-1.37-1.37c-.4-.4-.92-.59-1.43-.59-.52 0-1.04.2-1.43.59L10.3 9.45l-7.72 7.72c-.78.78-.78 2.05 0 2.83L4 21.41c.39.39.9.59 1.41.59.51 0 1.02-.2 1.41-.59l7.78-7.78 2.81-2.81c.8-.78.8-2.07 0-2.86zM5.41 20L4 18.59l7.72-7.72 1.47 1.35L5.41 20z\"/>\n",
              "  </svg>\n",
              "      </button>\n",
              "      \n",
              "  <style>\n",
              "    .colab-df-container {\n",
              "      display:flex;\n",
              "      flex-wrap:wrap;\n",
              "      gap: 12px;\n",
              "    }\n",
              "\n",
              "    .colab-df-convert {\n",
              "      background-color: #E8F0FE;\n",
              "      border: none;\n",
              "      border-radius: 50%;\n",
              "      cursor: pointer;\n",
              "      display: none;\n",
              "      fill: #1967D2;\n",
              "      height: 32px;\n",
              "      padding: 0 0 0 0;\n",
              "      width: 32px;\n",
              "    }\n",
              "\n",
              "    .colab-df-convert:hover {\n",
              "      background-color: #E2EBFA;\n",
              "      box-shadow: 0px 1px 2px rgba(60, 64, 67, 0.3), 0px 1px 3px 1px rgba(60, 64, 67, 0.15);\n",
              "      fill: #174EA6;\n",
              "    }\n",
              "\n",
              "    [theme=dark] .colab-df-convert {\n",
              "      background-color: #3B4455;\n",
              "      fill: #D2E3FC;\n",
              "    }\n",
              "\n",
              "    [theme=dark] .colab-df-convert:hover {\n",
              "      background-color: #434B5C;\n",
              "      box-shadow: 0px 1px 3px 1px rgba(0, 0, 0, 0.15);\n",
              "      filter: drop-shadow(0px 1px 2px rgba(0, 0, 0, 0.3));\n",
              "      fill: #FFFFFF;\n",
              "    }\n",
              "  </style>\n",
              "\n",
              "      <script>\n",
              "        const buttonEl =\n",
              "          document.querySelector('#df-a5f24691-5c5f-40f0-84b1-1983a5c4565a button.colab-df-convert');\n",
              "        buttonEl.style.display =\n",
              "          google.colab.kernel.accessAllowed ? 'block' : 'none';\n",
              "\n",
              "        async function convertToInteractive(key) {\n",
              "          const element = document.querySelector('#df-a5f24691-5c5f-40f0-84b1-1983a5c4565a');\n",
              "          const dataTable =\n",
              "            await google.colab.kernel.invokeFunction('convertToInteractive',\n",
              "                                                     [key], {});\n",
              "          if (!dataTable) return;\n",
              "\n",
              "          const docLinkHtml = 'Like what you see? Visit the ' +\n",
              "            '<a target=\"_blank\" href=https://colab.research.google.com/notebooks/data_table.ipynb>data table notebook</a>'\n",
              "            + ' to learn more about interactive tables.';\n",
              "          element.innerHTML = '';\n",
              "          dataTable['output_type'] = 'display_data';\n",
              "          await google.colab.output.renderOutput(dataTable, element);\n",
              "          const docLink = document.createElement('div');\n",
              "          docLink.innerHTML = docLinkHtml;\n",
              "          element.appendChild(docLink);\n",
              "        }\n",
              "      </script>\n",
              "    </div>\n",
              "  </div>\n",
              "  "
            ]
          },
          "metadata": {},
          "execution_count": 60
        }
      ]
    },
    {
      "cell_type": "code",
      "source": [
        "# Informações sobre o meu DataFrame\n",
        "df.info()"
      ],
      "metadata": {
        "colab": {
          "base_uri": "https://localhost:8080/"
        },
        "id": "jXThor2N2PIP",
        "outputId": "83c36cf5-87b3-4dae-e3fe-84d3706c1e20"
      },
      "execution_count": null,
      "outputs": [
        {
          "output_type": "stream",
          "name": "stdout",
          "text": [
            "<class 'pandas.core.frame.DataFrame'>\n",
            "RangeIndex: 1034 entries, 0 to 1033\n",
            "Data columns (total 9 columns):\n",
            " #   Column             Non-Null Count  Dtype  \n",
            "---  ------             --------------  -----  \n",
            " 0   Jogos              1034 non-null   object \n",
            " 1   Ano de lançamento  825 non-null    float64\n",
            " 2   Gênero             1034 non-null   object \n",
            " 3   Empresa            825 non-null    object \n",
            " 4   EUA                1034 non-null   float64\n",
            " 5   Europa             1034 non-null   float64\n",
            " 6   Japão              1034 non-null   float64\n",
            " 7   Restante do mundo  1034 non-null   float64\n",
            " 8   Global             1034 non-null   float64\n",
            "dtypes: float64(6), object(3)\n",
            "memory usage: 72.8+ KB\n"
          ]
        }
      ]
    },
    {
      "cell_type": "code",
      "source": [
        "# Descrição do DataFrame, Count, Mean, Quartis, máximo, mínimo e etc.\n",
        "df.describe()"
      ],
      "metadata": {
        "colab": {
          "base_uri": "https://localhost:8080/"
        },
        "id": "pz2SmQ3f2SN7",
        "outputId": "40e5eba4-f597-405b-e858-73369ab3b6f1"
      },
      "execution_count": null,
      "outputs": [
        {
          "output_type": "execute_result",
          "data": {
            "text/plain": [
              "       Ano de lançamento          EUA       Europa        Japão  \\\n",
              "count         825.000000  1034.000000  1034.000000  1034.000000   \n",
              "mean         2015.966061     0.204613     0.248714     0.033636   \n",
              "std             1.298360     0.563471     0.785491     0.108344   \n",
              "min          2013.000000     0.000000     0.000000     0.000000   \n",
              "25%          2015.000000     0.000000     0.000000     0.000000   \n",
              "50%          2016.000000     0.020000     0.000000     0.000000   \n",
              "75%          2017.000000     0.120000     0.130000     0.030000   \n",
              "max          2020.000000     6.180000     9.710000     2.170000   \n",
              "\n",
              "       Restante do mundo       Global  \n",
              "count        1034.000000  1034.000000  \n",
              "mean            0.089014     0.576054  \n",
              "std             0.249410     1.583534  \n",
              "min             0.000000     0.000000  \n",
              "25%             0.000000     0.000000  \n",
              "50%             0.010000     0.060000  \n",
              "75%             0.050000     0.357500  \n",
              "max             3.020000    19.390000  "
            ],
            "text/html": [
              "\n",
              "  <div id=\"df-dcac3e9f-7644-4769-884b-ad83ffd42158\">\n",
              "    <div class=\"colab-df-container\">\n",
              "      <div>\n",
              "<style scoped>\n",
              "    .dataframe tbody tr th:only-of-type {\n",
              "        vertical-align: middle;\n",
              "    }\n",
              "\n",
              "    .dataframe tbody tr th {\n",
              "        vertical-align: top;\n",
              "    }\n",
              "\n",
              "    .dataframe thead th {\n",
              "        text-align: right;\n",
              "    }\n",
              "</style>\n",
              "<table border=\"1\" class=\"dataframe\">\n",
              "  <thead>\n",
              "    <tr style=\"text-align: right;\">\n",
              "      <th></th>\n",
              "      <th>Ano de lançamento</th>\n",
              "      <th>EUA</th>\n",
              "      <th>Europa</th>\n",
              "      <th>Japão</th>\n",
              "      <th>Restante do mundo</th>\n",
              "      <th>Global</th>\n",
              "    </tr>\n",
              "  </thead>\n",
              "  <tbody>\n",
              "    <tr>\n",
              "      <th>count</th>\n",
              "      <td>825.000000</td>\n",
              "      <td>1034.000000</td>\n",
              "      <td>1034.000000</td>\n",
              "      <td>1034.000000</td>\n",
              "      <td>1034.000000</td>\n",
              "      <td>1034.000000</td>\n",
              "    </tr>\n",
              "    <tr>\n",
              "      <th>mean</th>\n",
              "      <td>2015.966061</td>\n",
              "      <td>0.204613</td>\n",
              "      <td>0.248714</td>\n",
              "      <td>0.033636</td>\n",
              "      <td>0.089014</td>\n",
              "      <td>0.576054</td>\n",
              "    </tr>\n",
              "    <tr>\n",
              "      <th>std</th>\n",
              "      <td>1.298360</td>\n",
              "      <td>0.563471</td>\n",
              "      <td>0.785491</td>\n",
              "      <td>0.108344</td>\n",
              "      <td>0.249410</td>\n",
              "      <td>1.583534</td>\n",
              "    </tr>\n",
              "    <tr>\n",
              "      <th>min</th>\n",
              "      <td>2013.000000</td>\n",
              "      <td>0.000000</td>\n",
              "      <td>0.000000</td>\n",
              "      <td>0.000000</td>\n",
              "      <td>0.000000</td>\n",
              "      <td>0.000000</td>\n",
              "    </tr>\n",
              "    <tr>\n",
              "      <th>25%</th>\n",
              "      <td>2015.000000</td>\n",
              "      <td>0.000000</td>\n",
              "      <td>0.000000</td>\n",
              "      <td>0.000000</td>\n",
              "      <td>0.000000</td>\n",
              "      <td>0.000000</td>\n",
              "    </tr>\n",
              "    <tr>\n",
              "      <th>50%</th>\n",
              "      <td>2016.000000</td>\n",
              "      <td>0.020000</td>\n",
              "      <td>0.000000</td>\n",
              "      <td>0.000000</td>\n",
              "      <td>0.010000</td>\n",
              "      <td>0.060000</td>\n",
              "    </tr>\n",
              "    <tr>\n",
              "      <th>75%</th>\n",
              "      <td>2017.000000</td>\n",
              "      <td>0.120000</td>\n",
              "      <td>0.130000</td>\n",
              "      <td>0.030000</td>\n",
              "      <td>0.050000</td>\n",
              "      <td>0.357500</td>\n",
              "    </tr>\n",
              "    <tr>\n",
              "      <th>max</th>\n",
              "      <td>2020.000000</td>\n",
              "      <td>6.180000</td>\n",
              "      <td>9.710000</td>\n",
              "      <td>2.170000</td>\n",
              "      <td>3.020000</td>\n",
              "      <td>19.390000</td>\n",
              "    </tr>\n",
              "  </tbody>\n",
              "</table>\n",
              "</div>\n",
              "      <button class=\"colab-df-convert\" onclick=\"convertToInteractive('df-dcac3e9f-7644-4769-884b-ad83ffd42158')\"\n",
              "              title=\"Convert this dataframe to an interactive table.\"\n",
              "              style=\"display:none;\">\n",
              "        \n",
              "  <svg xmlns=\"http://www.w3.org/2000/svg\" height=\"24px\"viewBox=\"0 0 24 24\"\n",
              "       width=\"24px\">\n",
              "    <path d=\"M0 0h24v24H0V0z\" fill=\"none\"/>\n",
              "    <path d=\"M18.56 5.44l.94 2.06.94-2.06 2.06-.94-2.06-.94-.94-2.06-.94 2.06-2.06.94zm-11 1L8.5 8.5l.94-2.06 2.06-.94-2.06-.94L8.5 2.5l-.94 2.06-2.06.94zm10 10l.94 2.06.94-2.06 2.06-.94-2.06-.94-.94-2.06-.94 2.06-2.06.94z\"/><path d=\"M17.41 7.96l-1.37-1.37c-.4-.4-.92-.59-1.43-.59-.52 0-1.04.2-1.43.59L10.3 9.45l-7.72 7.72c-.78.78-.78 2.05 0 2.83L4 21.41c.39.39.9.59 1.41.59.51 0 1.02-.2 1.41-.59l7.78-7.78 2.81-2.81c.8-.78.8-2.07 0-2.86zM5.41 20L4 18.59l7.72-7.72 1.47 1.35L5.41 20z\"/>\n",
              "  </svg>\n",
              "      </button>\n",
              "      \n",
              "  <style>\n",
              "    .colab-df-container {\n",
              "      display:flex;\n",
              "      flex-wrap:wrap;\n",
              "      gap: 12px;\n",
              "    }\n",
              "\n",
              "    .colab-df-convert {\n",
              "      background-color: #E8F0FE;\n",
              "      border: none;\n",
              "      border-radius: 50%;\n",
              "      cursor: pointer;\n",
              "      display: none;\n",
              "      fill: #1967D2;\n",
              "      height: 32px;\n",
              "      padding: 0 0 0 0;\n",
              "      width: 32px;\n",
              "    }\n",
              "\n",
              "    .colab-df-convert:hover {\n",
              "      background-color: #E2EBFA;\n",
              "      box-shadow: 0px 1px 2px rgba(60, 64, 67, 0.3), 0px 1px 3px 1px rgba(60, 64, 67, 0.15);\n",
              "      fill: #174EA6;\n",
              "    }\n",
              "\n",
              "    [theme=dark] .colab-df-convert {\n",
              "      background-color: #3B4455;\n",
              "      fill: #D2E3FC;\n",
              "    }\n",
              "\n",
              "    [theme=dark] .colab-df-convert:hover {\n",
              "      background-color: #434B5C;\n",
              "      box-shadow: 0px 1px 3px 1px rgba(0, 0, 0, 0.15);\n",
              "      filter: drop-shadow(0px 1px 2px rgba(0, 0, 0, 0.3));\n",
              "      fill: #FFFFFF;\n",
              "    }\n",
              "  </style>\n",
              "\n",
              "      <script>\n",
              "        const buttonEl =\n",
              "          document.querySelector('#df-dcac3e9f-7644-4769-884b-ad83ffd42158 button.colab-df-convert');\n",
              "        buttonEl.style.display =\n",
              "          google.colab.kernel.accessAllowed ? 'block' : 'none';\n",
              "\n",
              "        async function convertToInteractive(key) {\n",
              "          const element = document.querySelector('#df-dcac3e9f-7644-4769-884b-ad83ffd42158');\n",
              "          const dataTable =\n",
              "            await google.colab.kernel.invokeFunction('convertToInteractive',\n",
              "                                                     [key], {});\n",
              "          if (!dataTable) return;\n",
              "\n",
              "          const docLinkHtml = 'Like what you see? Visit the ' +\n",
              "            '<a target=\"_blank\" href=https://colab.research.google.com/notebooks/data_table.ipynb>data table notebook</a>'\n",
              "            + ' to learn more about interactive tables.';\n",
              "          element.innerHTML = '';\n",
              "          dataTable['output_type'] = 'display_data';\n",
              "          await google.colab.output.renderOutput(dataTable, element);\n",
              "          const docLink = document.createElement('div');\n",
              "          docLink.innerHTML = docLinkHtml;\n",
              "          element.appendChild(docLink);\n",
              "        }\n",
              "      </script>\n",
              "    </div>\n",
              "  </div>\n",
              "  "
            ]
          },
          "metadata": {},
          "execution_count": 62
        }
      ]
    },
    {
      "cell_type": "code",
      "source": [
        "# Analise a quantidade de linhas por colunas do DataFrame \n",
        "df.shape"
      ],
      "metadata": {
        "colab": {
          "base_uri": "https://localhost:8080/"
        },
        "id": "2GAZgcFL63Ah",
        "outputId": "dd2d0870-d341-47e1-d0aa-c7a778b26c28"
      },
      "execution_count": null,
      "outputs": [
        {
          "output_type": "execute_result",
          "data": {
            "text/plain": [
              "(1034, 9)"
            ]
          },
          "metadata": {},
          "execution_count": 63
        }
      ]
    },
    {
      "cell_type": "markdown",
      "source": [
        "# Tratamento de valores inconsistentes"
      ],
      "metadata": {
        "id": "GZDRQv7Az_tj"
      }
    },
    {
      "cell_type": "code",
      "source": [
        "df.index"
      ],
      "metadata": {
        "colab": {
          "base_uri": "https://localhost:8080/"
        },
        "id": "kI3WbPgl2XwG",
        "outputId": "f0d3d5e0-46be-4c56-aa36-26483951b836"
      },
      "execution_count": null,
      "outputs": [
        {
          "output_type": "execute_result",
          "data": {
            "text/plain": [
              "RangeIndex(start=0, stop=1034, step=1)"
            ]
          },
          "metadata": {},
          "execution_count": 64
        }
      ]
    },
    {
      "cell_type": "markdown",
      "source": [
        "Verificando valores inconsistente"
      ],
      "metadata": {
        "id": "l-HRHaIr3UtV"
      }
    },
    {
      "cell_type": "code",
      "source": [
        "df[df['Ano de lançamento'] < 0 ].index"
      ],
      "metadata": {
        "colab": {
          "base_uri": "https://localhost:8080/"
        },
        "id": "_JMIq1p22PNx",
        "outputId": "af5cce4a-61f8-4440-c26d-120e670bcca9"
      },
      "execution_count": null,
      "outputs": [
        {
          "output_type": "execute_result",
          "data": {
            "text/plain": [
              "Int64Index([], dtype='int64')"
            ]
          },
          "metadata": {},
          "execution_count": 65
        }
      ]
    },
    {
      "cell_type": "code",
      "source": [
        "df[df['EUA'] < 0 ].index"
      ],
      "metadata": {
        "colab": {
          "base_uri": "https://localhost:8080/"
        },
        "id": "9-z-Ni7u3YZN",
        "outputId": "9707ab96-5581-4778-9643-1813c574d2c7"
      },
      "execution_count": null,
      "outputs": [
        {
          "output_type": "execute_result",
          "data": {
            "text/plain": [
              "Int64Index([], dtype='int64')"
            ]
          },
          "metadata": {},
          "execution_count": 66
        }
      ]
    },
    {
      "cell_type": "code",
      "source": [
        "df[df['Europa'] < 0 ].index"
      ],
      "metadata": {
        "colab": {
          "base_uri": "https://localhost:8080/"
        },
        "id": "Fgz03dwJ4djq",
        "outputId": "568a3d9a-822b-4e37-b49f-7124d39fd2ad"
      },
      "execution_count": null,
      "outputs": [
        {
          "output_type": "execute_result",
          "data": {
            "text/plain": [
              "Int64Index([], dtype='int64')"
            ]
          },
          "metadata": {},
          "execution_count": 67
        }
      ]
    },
    {
      "cell_type": "code",
      "source": [
        "df[df['Japão'] < 0 ].index"
      ],
      "metadata": {
        "colab": {
          "base_uri": "https://localhost:8080/"
        },
        "id": "nHFM3iOx4hfE",
        "outputId": "e71f7f28-cd06-43e3-91ef-491482b77895"
      },
      "execution_count": null,
      "outputs": [
        {
          "output_type": "execute_result",
          "data": {
            "text/plain": [
              "Int64Index([], dtype='int64')"
            ]
          },
          "metadata": {},
          "execution_count": 68
        }
      ]
    },
    {
      "cell_type": "code",
      "source": [
        "df[df['Global'] < 0 ].index"
      ],
      "metadata": {
        "colab": {
          "base_uri": "https://localhost:8080/"
        },
        "id": "oZEws-Xl4pXS",
        "outputId": "8da3c979-a46c-4a35-fe75-878360c960d5"
      },
      "execution_count": null,
      "outputs": [
        {
          "output_type": "execute_result",
          "data": {
            "text/plain": [
              "Int64Index([], dtype='int64')"
            ]
          },
          "metadata": {},
          "execution_count": 69
        }
      ]
    },
    {
      "cell_type": "markdown",
      "source": [
        "Caso, eu quisesse apagar somente os registros com valores inconsistentes"
      ],
      "metadata": {
        "id": "scJwSiAE5Jch"
      }
    },
    {
      "cell_type": "code",
      "source": [
        "# Caso, eu quisesse apagar somente os registros com valores inconsistentes\n",
        "df3 = df.drop(df[df['Ano de lançamento'] < 0].index)\n",
        "df3"
      ],
      "metadata": {
        "colab": {
          "base_uri": "https://localhost:8080/"
        },
        "id": "HYYKiQTo0314",
        "outputId": "c2430b4b-751f-46b6-cbda-bae475b77656"
      },
      "execution_count": null,
      "outputs": [
        {
          "output_type": "execute_result",
          "data": {
            "text/plain": [
              "                                   Jogos  Ano de lançamento            Gênero  \\\n",
              "0                     Grand Theft Auto V             2014.0            Action   \n",
              "1              Call of Duty: Black Ops 3             2015.0           Shooter   \n",
              "2                  Red Dead Redemption 2             2018.0  Action-Adventure   \n",
              "3                     Call of Duty: WWII             2017.0           Shooter   \n",
              "4                                FIFA 18             2017.0            Sports   \n",
              "...                                  ...                ...               ...   \n",
              "1029  Fallen Legion: Flames of Rebellion                NaN      Role-Playing   \n",
              "1030            Radial G Racing Revolved             2017.0            Racing   \n",
              "1031                The Mummy Demastered                NaN            Action   \n",
              "1032          Project Nimbus: Code Mirai                NaN            Action   \n",
              "1033                 Battle Chef Brigade                NaN            Action   \n",
              "\n",
              "             Empresa   EUA  Europa  Japão  Restante do mundo  Global  \n",
              "0     Rockstar Games  6.06    9.71   0.60               3.02   19.39  \n",
              "1         Activision  6.18    6.05   0.41               2.44   15.09  \n",
              "2     Rockstar Games  5.26    6.21   0.21               2.26   13.94  \n",
              "3         Activision  4.67    6.21   0.40               2.12   13.40  \n",
              "4          EA Sports  1.27    8.64   0.15               1.73   11.80  \n",
              "...              ...   ...     ...    ...                ...     ...  \n",
              "1029             NaN  0.00    0.00   0.00               0.00    0.00  \n",
              "1030   Tammeka Games  0.00    0.00   0.00               0.00    0.00  \n",
              "1031             NaN  0.00    0.00   0.00               0.00    0.00  \n",
              "1032             NaN  0.00    0.00   0.00               0.00    0.00  \n",
              "1033             NaN  0.00    0.00   0.00               0.00    0.00  \n",
              "\n",
              "[1034 rows x 9 columns]"
            ],
            "text/html": [
              "\n",
              "  <div id=\"df-f500d04b-c33d-4de6-bfbd-d3a9e7a74b64\">\n",
              "    <div class=\"colab-df-container\">\n",
              "      <div>\n",
              "<style scoped>\n",
              "    .dataframe tbody tr th:only-of-type {\n",
              "        vertical-align: middle;\n",
              "    }\n",
              "\n",
              "    .dataframe tbody tr th {\n",
              "        vertical-align: top;\n",
              "    }\n",
              "\n",
              "    .dataframe thead th {\n",
              "        text-align: right;\n",
              "    }\n",
              "</style>\n",
              "<table border=\"1\" class=\"dataframe\">\n",
              "  <thead>\n",
              "    <tr style=\"text-align: right;\">\n",
              "      <th></th>\n",
              "      <th>Jogos</th>\n",
              "      <th>Ano de lançamento</th>\n",
              "      <th>Gênero</th>\n",
              "      <th>Empresa</th>\n",
              "      <th>EUA</th>\n",
              "      <th>Europa</th>\n",
              "      <th>Japão</th>\n",
              "      <th>Restante do mundo</th>\n",
              "      <th>Global</th>\n",
              "    </tr>\n",
              "  </thead>\n",
              "  <tbody>\n",
              "    <tr>\n",
              "      <th>0</th>\n",
              "      <td>Grand Theft Auto V</td>\n",
              "      <td>2014.0</td>\n",
              "      <td>Action</td>\n",
              "      <td>Rockstar Games</td>\n",
              "      <td>6.06</td>\n",
              "      <td>9.71</td>\n",
              "      <td>0.60</td>\n",
              "      <td>3.02</td>\n",
              "      <td>19.39</td>\n",
              "    </tr>\n",
              "    <tr>\n",
              "      <th>1</th>\n",
              "      <td>Call of Duty: Black Ops 3</td>\n",
              "      <td>2015.0</td>\n",
              "      <td>Shooter</td>\n",
              "      <td>Activision</td>\n",
              "      <td>6.18</td>\n",
              "      <td>6.05</td>\n",
              "      <td>0.41</td>\n",
              "      <td>2.44</td>\n",
              "      <td>15.09</td>\n",
              "    </tr>\n",
              "    <tr>\n",
              "      <th>2</th>\n",
              "      <td>Red Dead Redemption 2</td>\n",
              "      <td>2018.0</td>\n",
              "      <td>Action-Adventure</td>\n",
              "      <td>Rockstar Games</td>\n",
              "      <td>5.26</td>\n",
              "      <td>6.21</td>\n",
              "      <td>0.21</td>\n",
              "      <td>2.26</td>\n",
              "      <td>13.94</td>\n",
              "    </tr>\n",
              "    <tr>\n",
              "      <th>3</th>\n",
              "      <td>Call of Duty: WWII</td>\n",
              "      <td>2017.0</td>\n",
              "      <td>Shooter</td>\n",
              "      <td>Activision</td>\n",
              "      <td>4.67</td>\n",
              "      <td>6.21</td>\n",
              "      <td>0.40</td>\n",
              "      <td>2.12</td>\n",
              "      <td>13.40</td>\n",
              "    </tr>\n",
              "    <tr>\n",
              "      <th>4</th>\n",
              "      <td>FIFA 18</td>\n",
              "      <td>2017.0</td>\n",
              "      <td>Sports</td>\n",
              "      <td>EA Sports</td>\n",
              "      <td>1.27</td>\n",
              "      <td>8.64</td>\n",
              "      <td>0.15</td>\n",
              "      <td>1.73</td>\n",
              "      <td>11.80</td>\n",
              "    </tr>\n",
              "    <tr>\n",
              "      <th>...</th>\n",
              "      <td>...</td>\n",
              "      <td>...</td>\n",
              "      <td>...</td>\n",
              "      <td>...</td>\n",
              "      <td>...</td>\n",
              "      <td>...</td>\n",
              "      <td>...</td>\n",
              "      <td>...</td>\n",
              "      <td>...</td>\n",
              "    </tr>\n",
              "    <tr>\n",
              "      <th>1029</th>\n",
              "      <td>Fallen Legion: Flames of Rebellion</td>\n",
              "      <td>NaN</td>\n",
              "      <td>Role-Playing</td>\n",
              "      <td>NaN</td>\n",
              "      <td>0.00</td>\n",
              "      <td>0.00</td>\n",
              "      <td>0.00</td>\n",
              "      <td>0.00</td>\n",
              "      <td>0.00</td>\n",
              "    </tr>\n",
              "    <tr>\n",
              "      <th>1030</th>\n",
              "      <td>Radial G Racing Revolved</td>\n",
              "      <td>2017.0</td>\n",
              "      <td>Racing</td>\n",
              "      <td>Tammeka Games</td>\n",
              "      <td>0.00</td>\n",
              "      <td>0.00</td>\n",
              "      <td>0.00</td>\n",
              "      <td>0.00</td>\n",
              "      <td>0.00</td>\n",
              "    </tr>\n",
              "    <tr>\n",
              "      <th>1031</th>\n",
              "      <td>The Mummy Demastered</td>\n",
              "      <td>NaN</td>\n",
              "      <td>Action</td>\n",
              "      <td>NaN</td>\n",
              "      <td>0.00</td>\n",
              "      <td>0.00</td>\n",
              "      <td>0.00</td>\n",
              "      <td>0.00</td>\n",
              "      <td>0.00</td>\n",
              "    </tr>\n",
              "    <tr>\n",
              "      <th>1032</th>\n",
              "      <td>Project Nimbus: Code Mirai</td>\n",
              "      <td>NaN</td>\n",
              "      <td>Action</td>\n",
              "      <td>NaN</td>\n",
              "      <td>0.00</td>\n",
              "      <td>0.00</td>\n",
              "      <td>0.00</td>\n",
              "      <td>0.00</td>\n",
              "      <td>0.00</td>\n",
              "    </tr>\n",
              "    <tr>\n",
              "      <th>1033</th>\n",
              "      <td>Battle Chef Brigade</td>\n",
              "      <td>NaN</td>\n",
              "      <td>Action</td>\n",
              "      <td>NaN</td>\n",
              "      <td>0.00</td>\n",
              "      <td>0.00</td>\n",
              "      <td>0.00</td>\n",
              "      <td>0.00</td>\n",
              "      <td>0.00</td>\n",
              "    </tr>\n",
              "  </tbody>\n",
              "</table>\n",
              "<p>1034 rows × 9 columns</p>\n",
              "</div>\n",
              "      <button class=\"colab-df-convert\" onclick=\"convertToInteractive('df-f500d04b-c33d-4de6-bfbd-d3a9e7a74b64')\"\n",
              "              title=\"Convert this dataframe to an interactive table.\"\n",
              "              style=\"display:none;\">\n",
              "        \n",
              "  <svg xmlns=\"http://www.w3.org/2000/svg\" height=\"24px\"viewBox=\"0 0 24 24\"\n",
              "       width=\"24px\">\n",
              "    <path d=\"M0 0h24v24H0V0z\" fill=\"none\"/>\n",
              "    <path d=\"M18.56 5.44l.94 2.06.94-2.06 2.06-.94-2.06-.94-.94-2.06-.94 2.06-2.06.94zm-11 1L8.5 8.5l.94-2.06 2.06-.94-2.06-.94L8.5 2.5l-.94 2.06-2.06.94zm10 10l.94 2.06.94-2.06 2.06-.94-2.06-.94-.94-2.06-.94 2.06-2.06.94z\"/><path d=\"M17.41 7.96l-1.37-1.37c-.4-.4-.92-.59-1.43-.59-.52 0-1.04.2-1.43.59L10.3 9.45l-7.72 7.72c-.78.78-.78 2.05 0 2.83L4 21.41c.39.39.9.59 1.41.59.51 0 1.02-.2 1.41-.59l7.78-7.78 2.81-2.81c.8-.78.8-2.07 0-2.86zM5.41 20L4 18.59l7.72-7.72 1.47 1.35L5.41 20z\"/>\n",
              "  </svg>\n",
              "      </button>\n",
              "      \n",
              "  <style>\n",
              "    .colab-df-container {\n",
              "      display:flex;\n",
              "      flex-wrap:wrap;\n",
              "      gap: 12px;\n",
              "    }\n",
              "\n",
              "    .colab-df-convert {\n",
              "      background-color: #E8F0FE;\n",
              "      border: none;\n",
              "      border-radius: 50%;\n",
              "      cursor: pointer;\n",
              "      display: none;\n",
              "      fill: #1967D2;\n",
              "      height: 32px;\n",
              "      padding: 0 0 0 0;\n",
              "      width: 32px;\n",
              "    }\n",
              "\n",
              "    .colab-df-convert:hover {\n",
              "      background-color: #E2EBFA;\n",
              "      box-shadow: 0px 1px 2px rgba(60, 64, 67, 0.3), 0px 1px 3px 1px rgba(60, 64, 67, 0.15);\n",
              "      fill: #174EA6;\n",
              "    }\n",
              "\n",
              "    [theme=dark] .colab-df-convert {\n",
              "      background-color: #3B4455;\n",
              "      fill: #D2E3FC;\n",
              "    }\n",
              "\n",
              "    [theme=dark] .colab-df-convert:hover {\n",
              "      background-color: #434B5C;\n",
              "      box-shadow: 0px 1px 3px 1px rgba(0, 0, 0, 0.15);\n",
              "      filter: drop-shadow(0px 1px 2px rgba(0, 0, 0, 0.3));\n",
              "      fill: #FFFFFF;\n",
              "    }\n",
              "  </style>\n",
              "\n",
              "      <script>\n",
              "        const buttonEl =\n",
              "          document.querySelector('#df-f500d04b-c33d-4de6-bfbd-d3a9e7a74b64 button.colab-df-convert');\n",
              "        buttonEl.style.display =\n",
              "          google.colab.kernel.accessAllowed ? 'block' : 'none';\n",
              "\n",
              "        async function convertToInteractive(key) {\n",
              "          const element = document.querySelector('#df-f500d04b-c33d-4de6-bfbd-d3a9e7a74b64');\n",
              "          const dataTable =\n",
              "            await google.colab.kernel.invokeFunction('convertToInteractive',\n",
              "                                                     [key], {});\n",
              "          if (!dataTable) return;\n",
              "\n",
              "          const docLinkHtml = 'Like what you see? Visit the ' +\n",
              "            '<a target=\"_blank\" href=https://colab.research.google.com/notebooks/data_table.ipynb>data table notebook</a>'\n",
              "            + ' to learn more about interactive tables.';\n",
              "          element.innerHTML = '';\n",
              "          dataTable['output_type'] = 'display_data';\n",
              "          await google.colab.output.renderOutput(dataTable, element);\n",
              "          const docLink = document.createElement('div');\n",
              "          docLink.innerHTML = docLinkHtml;\n",
              "          element.appendChild(docLink);\n",
              "        }\n",
              "      </script>\n",
              "    </div>\n",
              "  </div>\n",
              "  "
            ]
          },
          "metadata": {},
          "execution_count": 70
        }
      ]
    },
    {
      "cell_type": "code",
      "source": [
        "# Caso tenhamos um volume muito grande de linhas faltantes na coluna 'Empresa', é melhor apagarmos a coluna.\n",
        "\n",
        "df2 = df.drop('Empresa', axis=1)\n",
        "df2"
      ],
      "metadata": {
        "colab": {
          "base_uri": "https://localhost:8080/"
        },
        "id": "-tjMEyBd0FM7",
        "outputId": "7ede5443-dcd9-409b-e2e7-554fe7c67df2"
      },
      "execution_count": null,
      "outputs": [
        {
          "output_type": "execute_result",
          "data": {
            "text/plain": [
              "                                   Jogos  Ano de lançamento            Gênero  \\\n",
              "0                     Grand Theft Auto V             2014.0            Action   \n",
              "1              Call of Duty: Black Ops 3             2015.0           Shooter   \n",
              "2                  Red Dead Redemption 2             2018.0  Action-Adventure   \n",
              "3                     Call of Duty: WWII             2017.0           Shooter   \n",
              "4                                FIFA 18             2017.0            Sports   \n",
              "...                                  ...                ...               ...   \n",
              "1029  Fallen Legion: Flames of Rebellion                NaN      Role-Playing   \n",
              "1030            Radial G Racing Revolved             2017.0            Racing   \n",
              "1031                The Mummy Demastered                NaN            Action   \n",
              "1032          Project Nimbus: Code Mirai                NaN            Action   \n",
              "1033                 Battle Chef Brigade                NaN            Action   \n",
              "\n",
              "       EUA  Europa  Japão  Restante do mundo  Global  \n",
              "0     6.06    9.71   0.60               3.02   19.39  \n",
              "1     6.18    6.05   0.41               2.44   15.09  \n",
              "2     5.26    6.21   0.21               2.26   13.94  \n",
              "3     4.67    6.21   0.40               2.12   13.40  \n",
              "4     1.27    8.64   0.15               1.73   11.80  \n",
              "...    ...     ...    ...                ...     ...  \n",
              "1029  0.00    0.00   0.00               0.00    0.00  \n",
              "1030  0.00    0.00   0.00               0.00    0.00  \n",
              "1031  0.00    0.00   0.00               0.00    0.00  \n",
              "1032  0.00    0.00   0.00               0.00    0.00  \n",
              "1033  0.00    0.00   0.00               0.00    0.00  \n",
              "\n",
              "[1034 rows x 8 columns]"
            ],
            "text/html": [
              "\n",
              "  <div id=\"df-b3fac9b6-45e2-4c74-a294-f745444c54d0\">\n",
              "    <div class=\"colab-df-container\">\n",
              "      <div>\n",
              "<style scoped>\n",
              "    .dataframe tbody tr th:only-of-type {\n",
              "        vertical-align: middle;\n",
              "    }\n",
              "\n",
              "    .dataframe tbody tr th {\n",
              "        vertical-align: top;\n",
              "    }\n",
              "\n",
              "    .dataframe thead th {\n",
              "        text-align: right;\n",
              "    }\n",
              "</style>\n",
              "<table border=\"1\" class=\"dataframe\">\n",
              "  <thead>\n",
              "    <tr style=\"text-align: right;\">\n",
              "      <th></th>\n",
              "      <th>Jogos</th>\n",
              "      <th>Ano de lançamento</th>\n",
              "      <th>Gênero</th>\n",
              "      <th>EUA</th>\n",
              "      <th>Europa</th>\n",
              "      <th>Japão</th>\n",
              "      <th>Restante do mundo</th>\n",
              "      <th>Global</th>\n",
              "    </tr>\n",
              "  </thead>\n",
              "  <tbody>\n",
              "    <tr>\n",
              "      <th>0</th>\n",
              "      <td>Grand Theft Auto V</td>\n",
              "      <td>2014.0</td>\n",
              "      <td>Action</td>\n",
              "      <td>6.06</td>\n",
              "      <td>9.71</td>\n",
              "      <td>0.60</td>\n",
              "      <td>3.02</td>\n",
              "      <td>19.39</td>\n",
              "    </tr>\n",
              "    <tr>\n",
              "      <th>1</th>\n",
              "      <td>Call of Duty: Black Ops 3</td>\n",
              "      <td>2015.0</td>\n",
              "      <td>Shooter</td>\n",
              "      <td>6.18</td>\n",
              "      <td>6.05</td>\n",
              "      <td>0.41</td>\n",
              "      <td>2.44</td>\n",
              "      <td>15.09</td>\n",
              "    </tr>\n",
              "    <tr>\n",
              "      <th>2</th>\n",
              "      <td>Red Dead Redemption 2</td>\n",
              "      <td>2018.0</td>\n",
              "      <td>Action-Adventure</td>\n",
              "      <td>5.26</td>\n",
              "      <td>6.21</td>\n",
              "      <td>0.21</td>\n",
              "      <td>2.26</td>\n",
              "      <td>13.94</td>\n",
              "    </tr>\n",
              "    <tr>\n",
              "      <th>3</th>\n",
              "      <td>Call of Duty: WWII</td>\n",
              "      <td>2017.0</td>\n",
              "      <td>Shooter</td>\n",
              "      <td>4.67</td>\n",
              "      <td>6.21</td>\n",
              "      <td>0.40</td>\n",
              "      <td>2.12</td>\n",
              "      <td>13.40</td>\n",
              "    </tr>\n",
              "    <tr>\n",
              "      <th>4</th>\n",
              "      <td>FIFA 18</td>\n",
              "      <td>2017.0</td>\n",
              "      <td>Sports</td>\n",
              "      <td>1.27</td>\n",
              "      <td>8.64</td>\n",
              "      <td>0.15</td>\n",
              "      <td>1.73</td>\n",
              "      <td>11.80</td>\n",
              "    </tr>\n",
              "    <tr>\n",
              "      <th>...</th>\n",
              "      <td>...</td>\n",
              "      <td>...</td>\n",
              "      <td>...</td>\n",
              "      <td>...</td>\n",
              "      <td>...</td>\n",
              "      <td>...</td>\n",
              "      <td>...</td>\n",
              "      <td>...</td>\n",
              "    </tr>\n",
              "    <tr>\n",
              "      <th>1029</th>\n",
              "      <td>Fallen Legion: Flames of Rebellion</td>\n",
              "      <td>NaN</td>\n",
              "      <td>Role-Playing</td>\n",
              "      <td>0.00</td>\n",
              "      <td>0.00</td>\n",
              "      <td>0.00</td>\n",
              "      <td>0.00</td>\n",
              "      <td>0.00</td>\n",
              "    </tr>\n",
              "    <tr>\n",
              "      <th>1030</th>\n",
              "      <td>Radial G Racing Revolved</td>\n",
              "      <td>2017.0</td>\n",
              "      <td>Racing</td>\n",
              "      <td>0.00</td>\n",
              "      <td>0.00</td>\n",
              "      <td>0.00</td>\n",
              "      <td>0.00</td>\n",
              "      <td>0.00</td>\n",
              "    </tr>\n",
              "    <tr>\n",
              "      <th>1031</th>\n",
              "      <td>The Mummy Demastered</td>\n",
              "      <td>NaN</td>\n",
              "      <td>Action</td>\n",
              "      <td>0.00</td>\n",
              "      <td>0.00</td>\n",
              "      <td>0.00</td>\n",
              "      <td>0.00</td>\n",
              "      <td>0.00</td>\n",
              "    </tr>\n",
              "    <tr>\n",
              "      <th>1032</th>\n",
              "      <td>Project Nimbus: Code Mirai</td>\n",
              "      <td>NaN</td>\n",
              "      <td>Action</td>\n",
              "      <td>0.00</td>\n",
              "      <td>0.00</td>\n",
              "      <td>0.00</td>\n",
              "      <td>0.00</td>\n",
              "      <td>0.00</td>\n",
              "    </tr>\n",
              "    <tr>\n",
              "      <th>1033</th>\n",
              "      <td>Battle Chef Brigade</td>\n",
              "      <td>NaN</td>\n",
              "      <td>Action</td>\n",
              "      <td>0.00</td>\n",
              "      <td>0.00</td>\n",
              "      <td>0.00</td>\n",
              "      <td>0.00</td>\n",
              "      <td>0.00</td>\n",
              "    </tr>\n",
              "  </tbody>\n",
              "</table>\n",
              "<p>1034 rows × 8 columns</p>\n",
              "</div>\n",
              "      <button class=\"colab-df-convert\" onclick=\"convertToInteractive('df-b3fac9b6-45e2-4c74-a294-f745444c54d0')\"\n",
              "              title=\"Convert this dataframe to an interactive table.\"\n",
              "              style=\"display:none;\">\n",
              "        \n",
              "  <svg xmlns=\"http://www.w3.org/2000/svg\" height=\"24px\"viewBox=\"0 0 24 24\"\n",
              "       width=\"24px\">\n",
              "    <path d=\"M0 0h24v24H0V0z\" fill=\"none\"/>\n",
              "    <path d=\"M18.56 5.44l.94 2.06.94-2.06 2.06-.94-2.06-.94-.94-2.06-.94 2.06-2.06.94zm-11 1L8.5 8.5l.94-2.06 2.06-.94-2.06-.94L8.5 2.5l-.94 2.06-2.06.94zm10 10l.94 2.06.94-2.06 2.06-.94-2.06-.94-.94-2.06-.94 2.06-2.06.94z\"/><path d=\"M17.41 7.96l-1.37-1.37c-.4-.4-.92-.59-1.43-.59-.52 0-1.04.2-1.43.59L10.3 9.45l-7.72 7.72c-.78.78-.78 2.05 0 2.83L4 21.41c.39.39.9.59 1.41.59.51 0 1.02-.2 1.41-.59l7.78-7.78 2.81-2.81c.8-.78.8-2.07 0-2.86zM5.41 20L4 18.59l7.72-7.72 1.47 1.35L5.41 20z\"/>\n",
              "  </svg>\n",
              "      </button>\n",
              "      \n",
              "  <style>\n",
              "    .colab-df-container {\n",
              "      display:flex;\n",
              "      flex-wrap:wrap;\n",
              "      gap: 12px;\n",
              "    }\n",
              "\n",
              "    .colab-df-convert {\n",
              "      background-color: #E8F0FE;\n",
              "      border: none;\n",
              "      border-radius: 50%;\n",
              "      cursor: pointer;\n",
              "      display: none;\n",
              "      fill: #1967D2;\n",
              "      height: 32px;\n",
              "      padding: 0 0 0 0;\n",
              "      width: 32px;\n",
              "    }\n",
              "\n",
              "    .colab-df-convert:hover {\n",
              "      background-color: #E2EBFA;\n",
              "      box-shadow: 0px 1px 2px rgba(60, 64, 67, 0.3), 0px 1px 3px 1px rgba(60, 64, 67, 0.15);\n",
              "      fill: #174EA6;\n",
              "    }\n",
              "\n",
              "    [theme=dark] .colab-df-convert {\n",
              "      background-color: #3B4455;\n",
              "      fill: #D2E3FC;\n",
              "    }\n",
              "\n",
              "    [theme=dark] .colab-df-convert:hover {\n",
              "      background-color: #434B5C;\n",
              "      box-shadow: 0px 1px 3px 1px rgba(0, 0, 0, 0.15);\n",
              "      filter: drop-shadow(0px 1px 2px rgba(0, 0, 0, 0.3));\n",
              "      fill: #FFFFFF;\n",
              "    }\n",
              "  </style>\n",
              "\n",
              "      <script>\n",
              "        const buttonEl =\n",
              "          document.querySelector('#df-b3fac9b6-45e2-4c74-a294-f745444c54d0 button.colab-df-convert');\n",
              "        buttonEl.style.display =\n",
              "          google.colab.kernel.accessAllowed ? 'block' : 'none';\n",
              "\n",
              "        async function convertToInteractive(key) {\n",
              "          const element = document.querySelector('#df-b3fac9b6-45e2-4c74-a294-f745444c54d0');\n",
              "          const dataTable =\n",
              "            await google.colab.kernel.invokeFunction('convertToInteractive',\n",
              "                                                     [key], {});\n",
              "          if (!dataTable) return;\n",
              "\n",
              "          const docLinkHtml = 'Like what you see? Visit the ' +\n",
              "            '<a target=\"_blank\" href=https://colab.research.google.com/notebooks/data_table.ipynb>data table notebook</a>'\n",
              "            + ' to learn more about interactive tables.';\n",
              "          element.innerHTML = '';\n",
              "          dataTable['output_type'] = 'display_data';\n",
              "          await google.colab.output.renderOutput(dataTable, element);\n",
              "          const docLink = document.createElement('div');\n",
              "          docLink.innerHTML = docLinkHtml;\n",
              "          element.appendChild(docLink);\n",
              "        }\n",
              "      </script>\n",
              "    </div>\n",
              "  </div>\n",
              "  "
            ]
          },
          "metadata": {},
          "execution_count": 71
        }
      ]
    },
    {
      "cell_type": "markdown",
      "source": [
        "# Tratamento de valores faltantes\n"
      ],
      "metadata": {
        "id": "GB8lOU4gpNPg"
      }
    },
    {
      "cell_type": "markdown",
      "source": [
        "Excluindo as linhas faltantes"
      ],
      "metadata": {
        "id": "zj0UYPo3p1yy"
      }
    },
    {
      "cell_type": "code",
      "source": [
        "# Soma dos valores faltantes\n",
        "df.isnull().sum()"
      ],
      "metadata": {
        "colab": {
          "base_uri": "https://localhost:8080/"
        },
        "id": "-ElazvFe2Zu3",
        "outputId": "ff40f8ec-08bc-4064-e316-80c1709ac56a"
      },
      "execution_count": null,
      "outputs": [
        {
          "output_type": "execute_result",
          "data": {
            "text/plain": [
              "Jogos                  0\n",
              "Ano de lançamento    209\n",
              "Gênero                 0\n",
              "Empresa              209\n",
              "EUA                    0\n",
              "Europa                 0\n",
              "Japão                  0\n",
              "Restante do mundo      0\n",
              "Global                 0\n",
              "dtype: int64"
            ]
          },
          "metadata": {},
          "execution_count": 72
        }
      ]
    },
    {
      "cell_type": "code",
      "source": [
        "# Analise gráfica da onde fica localizado os valores faltantes\n",
        "\n",
        "plt.figure(figsize=(20,7))\n",
        "plt.title('Analisando as linhas vazias')\n",
        "sns.heatmap(df.isnull(), cbar=False);"
      ],
      "metadata": {
        "colab": {
          "base_uri": "https://localhost:8080/"
        },
        "id": "pQnKcMgtywoA",
        "outputId": "11329c22-9e61-4c81-cb47-6dc8c1505229"
      },
      "execution_count": null,
      "outputs": [
        {
          "output_type": "display_data",
          "data": {
            "text/plain": [
              "<Figure size 1440x504 with 1 Axes>"
            ],
            "image/png": "[encoded data removed]"
          },
          "metadata": {}
        }
      ]
    },
    {
      "cell_type": "markdown",
      "source": [
        "Tratamento os dados faltantes do \"Ano de lançamentos\" usando a média."
      ],
      "metadata": {
        "id": "BJyB623At0Ra"
      }
    },
    {
      "cell_type": "code",
      "source": [
        "df['Ano de lançamento'].fillna(df['Ano de lançamento'].mean(), inplace = True)"
      ],
      "metadata": {
        "id": "jnLVPN3wq3hP"
      },
      "execution_count": null,
      "outputs": []
    },
    {
      "cell_type": "code",
      "source": [
        "# Analise gráfica da onde fica localizado os valores faltantes\n",
        "\n",
        "plt.figure(figsize=(20,7))\n",
        "plt.title('Analisando as linhas vazias')\n",
        "sns.heatmap(df.isnull(), cbar=False);"
      ],
      "metadata": {
        "colab": {
          "base_uri": "https://localhost:8080/"
        },
        "id": "AF_Xikig2flZ",
        "outputId": "d7972c05-4cef-45a5-e482-cb8c7453f675"
      },
      "execution_count": null,
      "outputs": [
        {
          "output_type": "display_data",
          "data": {
            "text/plain": [
              "<Figure size 1440x504 with 1 Axes>"
            ],
            "image/png": "[encoded data removed]"
          },
          "metadata": {}
        }
      ]
    },
    {
      "cell_type": "markdown",
      "source": [
        "Tratamento os dados faltantes da \"Empresa\" usando a mediana."
      ],
      "metadata": {
        "id": "WhCQDT_3xEiZ"
      }
    },
    {
      "cell_type": "code",
      "source": [
        "# Identificando os valores mais frequentes\n",
        "\n",
        "print(df.Empresa.value_counts())\n",
        "Empresa_freq = df.Empresa.value_counts()[0]"
      ],
      "metadata": {
        "colab": {
          "base_uri": "https://localhost:8080/"
        },
        "id": "UILvdCbwxexQ",
        "outputId": "95feb0aa-b425-405b-ac56-9644c30e7e10"
      },
      "execution_count": null,
      "outputs": [
        {
          "output_type": "stream",
          "name": "stdout",
          "text": [
            "Namco Bandai Games                56\n",
            "Sony Interactive Entertainment    47\n",
            "Ubisoft                           45\n",
            "Square Enix                       40\n",
            "Tecmo Koei                        37\n",
            "                                  ..\n",
            "Take-Two Interactive               1\n",
            "CokeM Interactive                  1\n",
            "Frontier Developments              1\n",
            "Mojang                             1\n",
            "Tammeka Games                      1\n",
            "Name: Empresa, Length: 152, dtype: int64\n"
          ]
        }
      ]
    },
    {
      "cell_type": "code",
      "source": [
        "# Preencher missing values com o valor acima\n",
        "df3.Empresa.fillna(Empresa_freq, inplace=True)"
      ],
      "metadata": {
        "id": "Ue33pmCuyBCE"
      },
      "execution_count": null,
      "outputs": []
    },
    {
      "cell_type": "code",
      "source": [
        "df3.isnull().sum()"
      ],
      "metadata": {
        "id": "a76yvdea7V_2",
        "colab": {
          "base_uri": "https://localhost:8080/"
        },
        "outputId": "4e7d18eb-7a90-4d3f-b647-dc7f2a8a1893"
      },
      "execution_count": null,
      "outputs": [
        {
          "output_type": "execute_result",
          "data": {
            "text/plain": [
              "Jogos                  0\n",
              "Ano de lançamento    209\n",
              "Gênero                 0\n",
              "Empresa                0\n",
              "EUA                    0\n",
              "Europa                 0\n",
              "Japão                  0\n",
              "Restante do mundo      0\n",
              "Global                 0\n",
              "dtype: int64"
            ]
          },
          "metadata": {},
          "execution_count": 78
        }
      ]
    },
    {
      "cell_type": "code",
      "source": [
        "#Analisando o gráfico do df3, qual, substitui as linhas vazias pela média.\n",
        "\n",
        "plt.figure(figsize=(20,7))\n",
        "plt.title('Analisando as linhas vazias')\n",
        "sns.heatmap(df3.isnull(), cbar=False)"
      ],
      "metadata": {
        "id": "aPEiDZjI7lBh",
        "colab": {
          "base_uri": "https://localhost:8080/"
        },
        "outputId": "5ce7de6c-62ba-4c02-8b15-33522f2aaada"
      },
      "execution_count": null,
      "outputs": [
        {
          "output_type": "execute_result",
          "data": {
            "text/plain": [
              "<matplotlib.axes._subplots.AxesSubplot at 0x7fe4f22178d0>"
            ]
          },
          "metadata": {},
          "execution_count": 79
        },
        {
          "output_type": "display_data",
          "data": {
            "text/plain": [
              "<Figure size 1440x504 with 1 Axes>"
            ],
            "image/png": "[encoded data removed]"
          },
          "metadata": {}
        }
      ]
    },
    {
      "cell_type": "code",
      "source": [
        "#Verificando valores unicos\n",
        "df.nunique()"
      ],
      "metadata": {
        "id": "_cNCNT4E_NI0",
        "colab": {
          "base_uri": "https://localhost:8080/"
        },
        "outputId": "8454ef83-d712-4546-cb52-63c5de8baecf"
      },
      "execution_count": null,
      "outputs": [
        {
          "output_type": "execute_result",
          "data": {
            "text/plain": [
              "Jogos                1031\n",
              "Ano de lançamento       9\n",
              "Gênero                 17\n",
              "Empresa               152\n",
              "EUA                   129\n",
              "Europa                139\n",
              "Japão                  45\n",
              "Restante do mundo      85\n",
              "Global                206\n",
              "dtype: int64"
            ]
          },
          "metadata": {},
          "execution_count": 80
        }
      ]
    },
    {
      "cell_type": "code",
      "source": [
        "df['Gênero'].unique()"
      ],
      "metadata": {
        "id": "l2UuC_goS6DC",
        "colab": {
          "base_uri": "https://localhost:8080/"
        },
        "outputId": "8752e4dc-e1b7-4ea1-e15e-c0d9202cf5e5"
      },
      "execution_count": null,
      "outputs": [
        {
          "output_type": "execute_result",
          "data": {
            "text/plain": [
              "array(['Action', 'Shooter', 'Action-Adventure', 'Sports', 'Role-Playing',\n",
              "       'Misc', 'Platform', 'Racing', 'Fighting', 'Adventure', 'MMO',\n",
              "       'Simulation', 'Music', 'Party', 'Strategy', 'Puzzle',\n",
              "       'Visual Novel'], dtype=object)"
            ]
          },
          "metadata": {},
          "execution_count": 81
        }
      ]
    },
    {
      "cell_type": "code",
      "source": [
        "df['Gênero'].nunique()"
      ],
      "metadata": {
        "id": "PvodAvEBS_l3",
        "colab": {
          "base_uri": "https://localhost:8080/"
        },
        "outputId": "c476d09a-7ca0-4ca8-b977-b1007c3b76db"
      },
      "execution_count": null,
      "outputs": [
        {
          "output_type": "execute_result",
          "data": {
            "text/plain": [
              "17"
            ]
          },
          "metadata": {},
          "execution_count": 82
        }
      ]
    },
    {
      "cell_type": "code",
      "source": [
        "df.pizza2 = round(df['Gênero'].value_counts(normalize=True)*100,2);"
      ],
      "metadata": {
        "id": "ir53tavMTXcl",
        "colab": {
          "base_uri": "https://localhost:8080/"
        },
        "outputId": "6a840738-f608-46ee-e732-f5e956e101f9"
      },
      "execution_count": null,
      "outputs": [
        {
          "output_type": "stream",
          "name": "stderr",
          "text": [
            "/usr/local/lib/python3.7/dist-packages/ipykernel_launcher.py:1: UserWarning: Pandas doesn't allow columns to be created via a new attribute name - see https://pandas.pydata.org/pandas-docs/stable/indexing.html#attribute-access\n",
            "  \"\"\"Entry point for launching an IPython kernel.\n"
          ]
        }
      ]
    },
    {
      "cell_type": "code",
      "source": [
        "df['Empresa'].value_counts().head()"
      ],
      "metadata": {
        "id": "-eWIMmx1_XXq",
        "colab": {
          "base_uri": "https://localhost:8080/"
        },
        "outputId": "61aa7b46-fbbc-414e-d184-225cffd2a60d"
      },
      "execution_count": null,
      "outputs": [
        {
          "output_type": "execute_result",
          "data": {
            "text/plain": [
              "Namco Bandai Games                56\n",
              "Sony Interactive Entertainment    47\n",
              "Ubisoft                           45\n",
              "Square Enix                       40\n",
              "Tecmo Koei                        37\n",
              "Name: Empresa, dtype: int64"
            ]
          },
          "metadata": {},
          "execution_count": 84
        }
      ]
    },
    {
      "cell_type": "code",
      "source": [
        "df['Empresa'].value_counts(normalize=True)"
      ],
      "metadata": {
        "id": "7DFyH0aR_x8v",
        "colab": {
          "base_uri": "https://localhost:8080/"
        },
        "outputId": "c3025cc0-dbca-40cd-8cf7-8be903825671"
      },
      "execution_count": null,
      "outputs": [
        {
          "output_type": "execute_result",
          "data": {
            "text/plain": [
              "Namco Bandai Games                0.067879\n",
              "Sony Interactive Entertainment    0.056970\n",
              "Ubisoft                           0.054545\n",
              "Square Enix                       0.048485\n",
              "Tecmo Koei                        0.044848\n",
              "                                    ...   \n",
              "Take-Two Interactive              0.001212\n",
              "CokeM Interactive                 0.001212\n",
              "Frontier Developments             0.001212\n",
              "Mojang                            0.001212\n",
              "Tammeka Games                     0.001212\n",
              "Name: Empresa, Length: 152, dtype: float64"
            ]
          },
          "metadata": {},
          "execution_count": 85
        }
      ]
    },
    {
      "cell_type": "code",
      "source": [
        "df['Gênero'].value_counts(normalize=True)"
      ],
      "metadata": {
        "id": "EjIPi2UgSPDo",
        "colab": {
          "base_uri": "https://localhost:8080/"
        },
        "outputId": "671acdcd-7af7-41ac-cfe8-ff5459b57aca"
      },
      "execution_count": null,
      "outputs": [
        {
          "output_type": "execute_result",
          "data": {
            "text/plain": [
              "Action              0.249516\n",
              "Role-Playing        0.118956\n",
              "Misc                0.118956\n",
              "Adventure           0.093810\n",
              "Shooter             0.086074\n",
              "Sports              0.068665\n",
              "Racing              0.046422\n",
              "Platform            0.044487\n",
              "Action-Adventure    0.038685\n",
              "Fighting            0.033849\n",
              "Strategy            0.027079\n",
              "Simulation          0.022244\n",
              "Music               0.018375\n",
              "Puzzle              0.015474\n",
              "MMO                 0.007737\n",
              "Visual Novel        0.007737\n",
              "Party               0.001934\n",
              "Name: Gênero, dtype: float64"
            ]
          },
          "metadata": {},
          "execution_count": 86
        }
      ]
    },
    {
      "cell_type": "markdown",
      "source": [
        "## Gráfico de pizza"
      ],
      "metadata": {
        "id": "r7aRLlZCzQUQ"
      }
    },
    {
      "cell_type": "code",
      "source": [
        "df.pizza = round(df['Empresa'].value_counts(normalize=True)*100,2);\n",
        "df.pizza.head(7)"
      ],
      "metadata": {
        "id": "p1M9ug65IDbI",
        "colab": {
          "base_uri": "https://localhost:8080/"
        },
        "outputId": "f7314767-01bb-4022-d2aa-d915994f7022"
      },
      "execution_count": null,
      "outputs": [
        {
          "output_type": "stream",
          "name": "stderr",
          "text": [
            "/usr/local/lib/python3.7/dist-packages/ipykernel_launcher.py:1: UserWarning: Pandas doesn't allow columns to be created via a new attribute name - see https://pandas.pydata.org/pandas-docs/stable/indexing.html#attribute-access\n",
            "  \"\"\"Entry point for launching an IPython kernel.\n"
          ]
        },
        {
          "output_type": "execute_result",
          "data": {
            "text/plain": [
              "Namco Bandai Games                6.79\n",
              "Sony Interactive Entertainment    5.70\n",
              "Ubisoft                           5.45\n",
              "Square Enix                       4.85\n",
              "Tecmo Koei                        4.48\n",
              "Activision                        3.64\n",
              "Capcom                            3.64\n",
              "Name: Empresa, dtype: float64"
            ]
          },
          "metadata": {},
          "execution_count": 87
        }
      ]
    },
    {
      "cell_type": "code",
      "source": [
        "plt.figure(figsize=(30,10))\n",
        "plt.title('5 maiores empresas de Jogos')\n",
        "\n",
        "plt.pie(df.pizza.head(7),\n",
        "        labels = df.pizza.index[0:7],\n",
        "        shadow = True,\n",
        "        startangle=90, # Direção do gráfico \n",
        "        autopct='%1.1f%%'\n",
        ");"
      ],
      "metadata": {
        "id": "UT1bsrodCFAl",
        "colab": {
          "base_uri": "https://localhost:8080/"
        },
        "outputId": "f2115169-dd9d-48ae-f6c3-c2a9313a0cd6"
      },
      "execution_count": null,
      "outputs": [
        {
          "output_type": "display_data",
          "data": {
            "text/plain": [
              "<Figure size 2160x720 with 1 Axes>"
            ],
            "image/png": "[encoded data removed]"
          },
          "metadata": {}
        }
      ]
    },
    {
      "cell_type": "code",
      "source": [
        "#Tamanho do gráfico\n",
        "plt.figure(figsize=(30,10))\n",
        "#Título\n",
        "plt.title('7 maiores gêneros de Jogos')\n",
        "#Plotagem do gráfico\n",
        "plt.pie(df.pizza2.head(7),\n",
        "        labels = df.pizza2.index[0:7],\n",
        "        shadow = True,\n",
        "        startangle=90, # Direção do gráfico \n",
        "        autopct='%1.1f%%'\n",
        ");"
      ],
      "metadata": {
        "id": "S_bGs24hTj-T",
        "colab": {
          "base_uri": "https://localhost:8080/"
        },
        "outputId": "d4592300-dc64-4cec-82c2-32972033a792"
      },
      "execution_count": null,
      "outputs": [
        {
          "output_type": "display_data",
          "data": {
            "text/plain": [
              "<Figure size 2160x720 with 1 Axes>"
            ],
            "image/png": "[encoded data removed]"
          },
          "metadata": {}
        }
      ]
    },
    {
      "cell_type": "code",
      "source": [
        "#Agrupamento para ver a contagem de dados pela coluna \"Ano de lançamento\"\n",
        "df.groupby(by=['Ano de lançamento']).sum()"
      ],
      "metadata": {
        "id": "fNUbByq2QK_r",
        "colab": {
          "base_uri": "https://localhost:8080/"
        },
        "outputId": "958ae137-eef0-4eb1-8674-2e7cc0042c4e"
      },
      "execution_count": null,
      "outputs": [
        {
          "output_type": "execute_result",
          "data": {
            "text/plain": [
              "                     EUA  Europa  Japão  Restante do mundo  Global\n",
              "Ano de lançamento                                                 \n",
              "2013.000000        10.35   12.88   0.97               4.57   28.76\n",
              "2014.000000        39.80   54.12   3.58              18.29  115.85\n",
              "2015.000000        49.60   56.21   7.28              20.88  133.99\n",
              "2015.966061         0.00    0.10   0.09               0.01    0.22\n",
              "2016.000000        47.40   57.98   9.65              20.71  135.72\n",
              "2017.000000        44.77   57.18   9.08              19.89  130.90\n",
              "2018.000000        19.65   18.70   4.13               7.69   50.20\n",
              "2019.000000         0.00    0.00   0.00               0.00    0.00\n",
              "2020.000000         0.00    0.00   0.00               0.00    0.00"
            ],
            "text/html": [
              "\n",
              "  <div id=\"df-c27db527-4c79-4c8f-b46c-4c1e3e11873a\">\n",
              "    <div class=\"colab-df-container\">\n",
              "      <div>\n",
              "<style scoped>\n",
              "    .dataframe tbody tr th:only-of-type {\n",
              "        vertical-align: middle;\n",
              "    }\n",
              "\n",
              "    .dataframe tbody tr th {\n",
              "        vertical-align: top;\n",
              "    }\n",
              "\n",
              "    .dataframe thead th {\n",
              "        text-align: right;\n",
              "    }\n",
              "</style>\n",
              "<table border=\"1\" class=\"dataframe\">\n",
              "  <thead>\n",
              "    <tr style=\"text-align: right;\">\n",
              "      <th></th>\n",
              "      <th>EUA</th>\n",
              "      <th>Europa</th>\n",
              "      <th>Japão</th>\n",
              "      <th>Restante do mundo</th>\n",
              "      <th>Global</th>\n",
              "    </tr>\n",
              "    <tr>\n",
              "      <th>Ano de lançamento</th>\n",
              "      <th></th>\n",
              "      <th></th>\n",
              "      <th></th>\n",
              "      <th></th>\n",
              "      <th></th>\n",
              "    </tr>\n",
              "  </thead>\n",
              "  <tbody>\n",
              "    <tr>\n",
              "      <th>2013.000000</th>\n",
              "      <td>10.35</td>\n",
              "      <td>12.88</td>\n",
              "      <td>0.97</td>\n",
              "      <td>4.57</td>\n",
              "      <td>28.76</td>\n",
              "    </tr>\n",
              "    <tr>\n",
              "      <th>2014.000000</th>\n",
              "      <td>39.80</td>\n",
              "      <td>54.12</td>\n",
              "      <td>3.58</td>\n",
              "      <td>18.29</td>\n",
              "      <td>115.85</td>\n",
              "    </tr>\n",
              "    <tr>\n",
              "      <th>2015.000000</th>\n",
              "      <td>49.60</td>\n",
              "      <td>56.21</td>\n",
              "      <td>7.28</td>\n",
              "      <td>20.88</td>\n",
              "      <td>133.99</td>\n",
              "    </tr>\n",
              "    <tr>\n",
              "      <th>2015.966061</th>\n",
              "      <td>0.00</td>\n",
              "      <td>0.10</td>\n",
              "      <td>0.09</td>\n",
              "      <td>0.01</td>\n",
              "      <td>0.22</td>\n",
              "    </tr>\n",
              "    <tr>\n",
              "      <th>2016.000000</th>\n",
              "      <td>47.40</td>\n",
              "      <td>57.98</td>\n",
              "      <td>9.65</td>\n",
              "      <td>20.71</td>\n",
              "      <td>135.72</td>\n",
              "    </tr>\n",
              "    <tr>\n",
              "      <th>2017.000000</th>\n",
              "      <td>44.77</td>\n",
              "      <td>57.18</td>\n",
              "      <td>9.08</td>\n",
              "      <td>19.89</td>\n",
              "      <td>130.90</td>\n",
              "    </tr>\n",
              "    <tr>\n",
              "      <th>2018.000000</th>\n",
              "      <td>19.65</td>\n",
              "      <td>18.70</td>\n",
              "      <td>4.13</td>\n",
              "      <td>7.69</td>\n",
              "      <td>50.20</td>\n",
              "    </tr>\n",
              "    <tr>\n",
              "      <th>2019.000000</th>\n",
              "      <td>0.00</td>\n",
              "      <td>0.00</td>\n",
              "      <td>0.00</td>\n",
              "      <td>0.00</td>\n",
              "      <td>0.00</td>\n",
              "    </tr>\n",
              "    <tr>\n",
              "      <th>2020.000000</th>\n",
              "      <td>0.00</td>\n",
              "      <td>0.00</td>\n",
              "      <td>0.00</td>\n",
              "      <td>0.00</td>\n",
              "      <td>0.00</td>\n",
              "    </tr>\n",
              "  </tbody>\n",
              "</table>\n",
              "</div>\n",
              "      <button class=\"colab-df-convert\" onclick=\"convertToInteractive('df-c27db527-4c79-4c8f-b46c-4c1e3e11873a')\"\n",
              "              title=\"Convert this dataframe to an interactive table.\"\n",
              "              style=\"display:none;\">\n",
              "        \n",
              "  <svg xmlns=\"http://www.w3.org/2000/svg\" height=\"24px\"viewBox=\"0 0 24 24\"\n",
              "       width=\"24px\">\n",
              "    <path d=\"M0 0h24v24H0V0z\" fill=\"none\"/>\n",
              "    <path d=\"M18.56 5.44l.94 2.06.94-2.06 2.06-.94-2.06-.94-.94-2.06-.94 2.06-2.06.94zm-11 1L8.5 8.5l.94-2.06 2.06-.94-2.06-.94L8.5 2.5l-.94 2.06-2.06.94zm10 10l.94 2.06.94-2.06 2.06-.94-2.06-.94-.94-2.06-.94 2.06-2.06.94z\"/><path d=\"M17.41 7.96l-1.37-1.37c-.4-.4-.92-.59-1.43-.59-.52 0-1.04.2-1.43.59L10.3 9.45l-7.72 7.72c-.78.78-.78 2.05 0 2.83L4 21.41c.39.39.9.59 1.41.59.51 0 1.02-.2 1.41-.59l7.78-7.78 2.81-2.81c.8-.78.8-2.07 0-2.86zM5.41 20L4 18.59l7.72-7.72 1.47 1.35L5.41 20z\"/>\n",
              "  </svg>\n",
              "      </button>\n",
              "      \n",
              "  <style>\n",
              "    .colab-df-container {\n",
              "      display:flex;\n",
              "      flex-wrap:wrap;\n",
              "      gap: 12px;\n",
              "    }\n",
              "\n",
              "    .colab-df-convert {\n",
              "      background-color: #E8F0FE;\n",
              "      border: none;\n",
              "      border-radius: 50%;\n",
              "      cursor: pointer;\n",
              "      display: none;\n",
              "      fill: #1967D2;\n",
              "      height: 32px;\n",
              "      padding: 0 0 0 0;\n",
              "      width: 32px;\n",
              "    }\n",
              "\n",
              "    .colab-df-convert:hover {\n",
              "      background-color: #E2EBFA;\n",
              "      box-shadow: 0px 1px 2px rgba(60, 64, 67, 0.3), 0px 1px 3px 1px rgba(60, 64, 67, 0.15);\n",
              "      fill: #174EA6;\n",
              "    }\n",
              "\n",
              "    [theme=dark] .colab-df-convert {\n",
              "      background-color: #3B4455;\n",
              "      fill: #D2E3FC;\n",
              "    }\n",
              "\n",
              "    [theme=dark] .colab-df-convert:hover {\n",
              "      background-color: #434B5C;\n",
              "      box-shadow: 0px 1px 3px 1px rgba(0, 0, 0, 0.15);\n",
              "      filter: drop-shadow(0px 1px 2px rgba(0, 0, 0, 0.3));\n",
              "      fill: #FFFFFF;\n",
              "    }\n",
              "  </style>\n",
              "\n",
              "      <script>\n",
              "        const buttonEl =\n",
              "          document.querySelector('#df-c27db527-4c79-4c8f-b46c-4c1e3e11873a button.colab-df-convert');\n",
              "        buttonEl.style.display =\n",
              "          google.colab.kernel.accessAllowed ? 'block' : 'none';\n",
              "\n",
              "        async function convertToInteractive(key) {\n",
              "          const element = document.querySelector('#df-c27db527-4c79-4c8f-b46c-4c1e3e11873a');\n",
              "          const dataTable =\n",
              "            await google.colab.kernel.invokeFunction('convertToInteractive',\n",
              "                                                     [key], {});\n",
              "          if (!dataTable) return;\n",
              "\n",
              "          const docLinkHtml = 'Like what you see? Visit the ' +\n",
              "            '<a target=\"_blank\" href=https://colab.research.google.com/notebooks/data_table.ipynb>data table notebook</a>'\n",
              "            + ' to learn more about interactive tables.';\n",
              "          element.innerHTML = '';\n",
              "          dataTable['output_type'] = 'display_data';\n",
              "          await google.colab.output.renderOutput(dataTable, element);\n",
              "          const docLink = document.createElement('div');\n",
              "          docLink.innerHTML = docLinkHtml;\n",
              "          element.appendChild(docLink);\n",
              "        }\n",
              "      </script>\n",
              "    </div>\n",
              "  </div>\n",
              "  "
            ]
          },
          "metadata": {},
          "execution_count": 90
        }
      ]
    },
    {
      "cell_type": "code",
      "source": [
        "#barWidth = 0.25\n",
        "#plt.figure(figsize=(20,7))\n",
        "#plt.title('Analise de vendas no Continente Europeu')\n",
        "\n",
        "#r1 = np.arange(le('EUA'))\n",
        "#r2 = [x + barWidth for x in r1]\n",
        "#r3 = [x + barWidth for x in r2]\n",
        "\n",
        "#plt.bar(r1, 'EUA', color ='r', width = barWidth,\n",
        "#        edgecolor ='grey', label ='EUA')\n",
        "#plt.bar(r2, 'Europa', color ='g', width = barWidth,\n",
        "#        edgecolor ='grey', label ='Europa')\n",
        "#plt.bar(r3, 'Japão', color ='b', width = barWidth,\n",
        "#        edgecolor ='grey', label ='Japão')\n",
        "\n",
        "#plt.xlabel('Ano', fontweight ='bold', fontsize = 15)\n",
        "#plt.ylabel('Students passed', fontweight ='bold', fontsize = 15)\n",
        "#plt.xticks([r + barWidth for r in range(len('EUA'))],\n",
        "#        ['2015', '2016', '2017', '2018', '2019'])\n",
        "#\n",
        "#plt.legend()\n",
        "#plt.show()"
      ],
      "metadata": {
        "id": "c5mcC0G7qk1p"
      },
      "execution_count": null,
      "outputs": []
    },
    {
      "cell_type": "markdown",
      "source": [
        "# Gráfico de barras"
      ],
      "metadata": {
        "id": "Z99okcUIzUp7"
      }
    },
    {
      "cell_type": "code",
      "source": [
        "#Tamanho do gráfico\n",
        "plt.figure(figsize=(20,7))\n",
        "# Estilo do Gráfico\n",
        "plt.style.use('ggplot')\n",
        "#Título do gráfico\n",
        "plt.title('Vendas globais por ano')\n",
        "#Plotagem do gráfico\n",
        "sns.barplot(data=df,\n",
        "            x='Ano de lançamento',\n",
        "            y='Global',\n",
        "            ci=None);"
      ],
      "metadata": {
        "id": "k6J13v5vHlxF",
        "colab": {
          "base_uri": "https://localhost:8080/"
        },
        "outputId": "11f8f4df-ed81-4a99-88fd-2021bf08517d"
      },
      "execution_count": null,
      "outputs": [
        {
          "output_type": "display_data",
          "data": {
            "text/plain": [
              "<Figure size 1440x504 with 1 Axes>"
            ],
            "image/png": "[encoded data removed]"
          },
          "metadata": {}
        }
      ]
    },
    {
      "cell_type": "markdown",
      "source": [
        "# Gráfico de distribuição"
      ],
      "metadata": {
        "id": "bzf3sDo8zcWB"
      }
    },
    {
      "cell_type": "code",
      "source": [
        "\n",
        "df = df.loc[(df['Ano de lançamento'] != 2019 ) & (df['Ano de lançamento'] != 2020)]\n",
        "\n",
        "df.head()"
      ],
      "metadata": {
        "id": "h4Eo3B5kGuAy",
        "colab": {
          "base_uri": "https://localhost:8080/"
        },
        "outputId": "b4c0962c-f29b-4d4d-c71f-60df07017212"
      },
      "execution_count": null,
      "outputs": [
        {
          "output_type": "execute_result",
          "data": {
            "text/plain": [
              "                       Jogos  Ano de lançamento            Gênero  \\\n",
              "0         Grand Theft Auto V             2014.0            Action   \n",
              "1  Call of Duty: Black Ops 3             2015.0           Shooter   \n",
              "2      Red Dead Redemption 2             2018.0  Action-Adventure   \n",
              "3         Call of Duty: WWII             2017.0           Shooter   \n",
              "4                    FIFA 18             2017.0            Sports   \n",
              "\n",
              "          Empresa   EUA  Europa  Japão  Restante do mundo  Global  \n",
              "0  Rockstar Games  6.06    9.71   0.60               3.02   19.39  \n",
              "1      Activision  6.18    6.05   0.41               2.44   15.09  \n",
              "2  Rockstar Games  5.26    6.21   0.21               2.26   13.94  \n",
              "3      Activision  4.67    6.21   0.40               2.12   13.40  \n",
              "4       EA Sports  1.27    8.64   0.15               1.73   11.80  "
            ],
            "text/html": [
              "\n",
              "  <div id=\"df-fbfdd955-9097-4e48-8c10-a6d769eb22cc\">\n",
              "    <div class=\"colab-df-container\">\n",
              "      <div>\n",
              "<style scoped>\n",
              "    .dataframe tbody tr th:only-of-type {\n",
              "        vertical-align: middle;\n",
              "    }\n",
              "\n",
              "    .dataframe tbody tr th {\n",
              "        vertical-align: top;\n",
              "    }\n",
              "\n",
              "    .dataframe thead th {\n",
              "        text-align: right;\n",
              "    }\n",
              "</style>\n",
              "<table border=\"1\" class=\"dataframe\">\n",
              "  <thead>\n",
              "    <tr style=\"text-align: right;\">\n",
              "      <th></th>\n",
              "      <th>Jogos</th>\n",
              "      <th>Ano de lançamento</th>\n",
              "      <th>Gênero</th>\n",
              "      <th>Empresa</th>\n",
              "      <th>EUA</th>\n",
              "      <th>Europa</th>\n",
              "      <th>Japão</th>\n",
              "      <th>Restante do mundo</th>\n",
              "      <th>Global</th>\n",
              "    </tr>\n",
              "  </thead>\n",
              "  <tbody>\n",
              "    <tr>\n",
              "      <th>0</th>\n",
              "      <td>Grand Theft Auto V</td>\n",
              "      <td>2014.0</td>\n",
              "      <td>Action</td>\n",
              "      <td>Rockstar Games</td>\n",
              "      <td>6.06</td>\n",
              "      <td>9.71</td>\n",
              "      <td>0.60</td>\n",
              "      <td>3.02</td>\n",
              "      <td>19.39</td>\n",
              "    </tr>\n",
              "    <tr>\n",
              "      <th>1</th>\n",
              "      <td>Call of Duty: Black Ops 3</td>\n",
              "      <td>2015.0</td>\n",
              "      <td>Shooter</td>\n",
              "      <td>Activision</td>\n",
              "      <td>6.18</td>\n",
              "      <td>6.05</td>\n",
              "      <td>0.41</td>\n",
              "      <td>2.44</td>\n",
              "      <td>15.09</td>\n",
              "    </tr>\n",
              "    <tr>\n",
              "      <th>2</th>\n",
              "      <td>Red Dead Redemption 2</td>\n",
              "      <td>2018.0</td>\n",
              "      <td>Action-Adventure</td>\n",
              "      <td>Rockstar Games</td>\n",
              "      <td>5.26</td>\n",
              "      <td>6.21</td>\n",
              "      <td>0.21</td>\n",
              "      <td>2.26</td>\n",
              "      <td>13.94</td>\n",
              "    </tr>\n",
              "    <tr>\n",
              "      <th>3</th>\n",
              "      <td>Call of Duty: WWII</td>\n",
              "      <td>2017.0</td>\n",
              "      <td>Shooter</td>\n",
              "      <td>Activision</td>\n",
              "      <td>4.67</td>\n",
              "      <td>6.21</td>\n",
              "      <td>0.40</td>\n",
              "      <td>2.12</td>\n",
              "      <td>13.40</td>\n",
              "    </tr>\n",
              "    <tr>\n",
              "      <th>4</th>\n",
              "      <td>FIFA 18</td>\n",
              "      <td>2017.0</td>\n",
              "      <td>Sports</td>\n",
              "      <td>EA Sports</td>\n",
              "      <td>1.27</td>\n",
              "      <td>8.64</td>\n",
              "      <td>0.15</td>\n",
              "      <td>1.73</td>\n",
              "      <td>11.80</td>\n",
              "    </tr>\n",
              "  </tbody>\n",
              "</table>\n",
              "</div>\n",
              "      <button class=\"colab-df-convert\" onclick=\"convertToInteractive('df-fbfdd955-9097-4e48-8c10-a6d769eb22cc')\"\n",
              "              title=\"Convert this dataframe to an interactive table.\"\n",
              "              style=\"display:none;\">\n",
              "        \n",
              "  <svg xmlns=\"http://www.w3.org/2000/svg\" height=\"24px\"viewBox=\"0 0 24 24\"\n",
              "       width=\"24px\">\n",
              "    <path d=\"M0 0h24v24H0V0z\" fill=\"none\"/>\n",
              "    <path d=\"M18.56 5.44l.94 2.06.94-2.06 2.06-.94-2.06-.94-.94-2.06-.94 2.06-2.06.94zm-11 1L8.5 8.5l.94-2.06 2.06-.94-2.06-.94L8.5 2.5l-.94 2.06-2.06.94zm10 10l.94 2.06.94-2.06 2.06-.94-2.06-.94-.94-2.06-.94 2.06-2.06.94z\"/><path d=\"M17.41 7.96l-1.37-1.37c-.4-.4-.92-.59-1.43-.59-.52 0-1.04.2-1.43.59L10.3 9.45l-7.72 7.72c-.78.78-.78 2.05 0 2.83L4 21.41c.39.39.9.59 1.41.59.51 0 1.02-.2 1.41-.59l7.78-7.78 2.81-2.81c.8-.78.8-2.07 0-2.86zM5.41 20L4 18.59l7.72-7.72 1.47 1.35L5.41 20z\"/>\n",
              "  </svg>\n",
              "      </button>\n",
              "      \n",
              "  <style>\n",
              "    .colab-df-container {\n",
              "      display:flex;\n",
              "      flex-wrap:wrap;\n",
              "      gap: 12px;\n",
              "    }\n",
              "\n",
              "    .colab-df-convert {\n",
              "      background-color: #E8F0FE;\n",
              "      border: none;\n",
              "      border-radius: 50%;\n",
              "      cursor: pointer;\n",
              "      display: none;\n",
              "      fill: #1967D2;\n",
              "      height: 32px;\n",
              "      padding: 0 0 0 0;\n",
              "      width: 32px;\n",
              "    }\n",
              "\n",
              "    .colab-df-convert:hover {\n",
              "      background-color: #E2EBFA;\n",
              "      box-shadow: 0px 1px 2px rgba(60, 64, 67, 0.3), 0px 1px 3px 1px rgba(60, 64, 67, 0.15);\n",
              "      fill: #174EA6;\n",
              "    }\n",
              "\n",
              "    [theme=dark] .colab-df-convert {\n",
              "      background-color: #3B4455;\n",
              "      fill: #D2E3FC;\n",
              "    }\n",
              "\n",
              "    [theme=dark] .colab-df-convert:hover {\n",
              "      background-color: #434B5C;\n",
              "      box-shadow: 0px 1px 3px 1px rgba(0, 0, 0, 0.15);\n",
              "      filter: drop-shadow(0px 1px 2px rgba(0, 0, 0, 0.3));\n",
              "      fill: #FFFFFF;\n",
              "    }\n",
              "  </style>\n",
              "\n",
              "      <script>\n",
              "        const buttonEl =\n",
              "          document.querySelector('#df-fbfdd955-9097-4e48-8c10-a6d769eb22cc button.colab-df-convert');\n",
              "        buttonEl.style.display =\n",
              "          google.colab.kernel.accessAllowed ? 'block' : 'none';\n",
              "\n",
              "        async function convertToInteractive(key) {\n",
              "          const element = document.querySelector('#df-fbfdd955-9097-4e48-8c10-a6d769eb22cc');\n",
              "          const dataTable =\n",
              "            await google.colab.kernel.invokeFunction('convertToInteractive',\n",
              "                                                     [key], {});\n",
              "          if (!dataTable) return;\n",
              "\n",
              "          const docLinkHtml = 'Like what you see? Visit the ' +\n",
              "            '<a target=\"_blank\" href=https://colab.research.google.com/notebooks/data_table.ipynb>data table notebook</a>'\n",
              "            + ' to learn more about interactive tables.';\n",
              "          element.innerHTML = '';\n",
              "          dataTable['output_type'] = 'display_data';\n",
              "          await google.colab.output.renderOutput(dataTable, element);\n",
              "          const docLink = document.createElement('div');\n",
              "          docLink.innerHTML = docLinkHtml;\n",
              "          element.appendChild(docLink);\n",
              "        }\n",
              "      </script>\n",
              "    </div>\n",
              "  </div>\n",
              "  "
            ]
          },
          "metadata": {},
          "execution_count": 93
        }
      ]
    },
    {
      "cell_type": "code",
      "source": [
        "#Tamanho do gráfico\n",
        "plt.figure(figsize=(20,7))\n",
        "# Estilo do Gráfico\n",
        "plt.style.use('ggplot')\n",
        "#Título do gráfico\n",
        "plt.title('Distribuição das vendas globais')\n",
        "#Plotagem do gráfico\n",
        "sns.kdeplot(df['Global'],\n",
        "            shade=True, #Sombra\n",
        "            bw=1\n",
        "            );"
      ],
      "metadata": {
        "id": "sLRaWSwQDTxI",
        "colab": {
          "base_uri": "https://localhost:8080/"
        },
        "outputId": "9e28dd90-cf8f-4b2a-8d65-df88a27b0409"
      },
      "execution_count": null,
      "outputs": [
        {
          "output_type": "stream",
          "name": "stderr",
          "text": [
            "/usr/local/lib/python3.7/dist-packages/seaborn/distributions.py:1699: FutureWarning: The `bw` parameter is deprecated in favor of `bw_method` and `bw_adjust`. Using 1 for `bw_method`, but please see the docs for the new parameters and update your code.\n",
            "  warnings.warn(msg, FutureWarning)\n"
          ]
        },
        {
          "output_type": "display_data",
          "data": {
            "text/plain": [
              "<Figure size 1440x504 with 1 Axes>"
            ],
            "image/png": "[encoded data removed]"
          },
          "metadata": {}
        }
      ]
    },
    {
      "cell_type": "markdown",
      "source": [
        "# Gráfico de boxplot"
      ],
      "metadata": {
        "id": "wfJtfexVzhrD"
      }
    },
    {
      "cell_type": "code",
      "source": [
        "plt.figure(figsize=(20,7))\n",
        "plt.title('Distribuição global x Ano')\n",
        "sns.boxplot(data=df,\n",
        "            x='Ano de lançamento',\n",
        "            y='Global')\n",
        "\n",
        "plt.xlabel('Ano')\n",
        "plt.ylabel('Distribuição global')"
      ],
      "metadata": {
        "id": "-JokqauDdNmG",
        "colab": {
          "base_uri": "https://localhost:8080/"
        },
        "outputId": "b43fc411-94fa-41eb-f179-37807c6609c4"
      },
      "execution_count": null,
      "outputs": [
        {
          "output_type": "execute_result",
          "data": {
            "text/plain": [
              "Text(0, 0.5, 'Distribuição global')"
            ]
          },
          "metadata": {},
          "execution_count": 95
        },
        {
          "output_type": "display_data",
          "data": {
            "text/plain": [
              "<Figure size 1440x504 with 1 Axes>"
            ],
            "image/png": "[encoded data removed]"
          },
          "metadata": {}
        }
      ]
    },
    {
      "cell_type": "markdown",
      "source": [
        ""
      ],
      "metadata": {
        "id": "mv4G1FVI_9Vi"
      }
    },
    {
      "cell_type": "markdown",
      "source": [
        "\n",
        "# LabelEncoder\n",
        "\n",
        "Como no cenário acima, os nomes não tem uma ordem ou uma classificação, o LabelEncoder funciona bem nesse caso, transformando-os em valores números."
      ],
      "metadata": {
        "id": "5upDQZ3xsyj7"
      }
    },
    {
      "cell_type": "code",
      "source": [
        "df.columns"
      ],
      "metadata": {
        "colab": {
          "base_uri": "https://localhost:8080/"
        },
        "id": "Xr47crXr_92o",
        "outputId": "e02b9954-666f-4255-c43c-f0576d5ff2e3"
      },
      "execution_count": null,
      "outputs": [
        {
          "output_type": "execute_result",
          "data": {
            "text/plain": [
              "Index(['Jogos', 'Ano de lançamento', 'Gênero', 'Empresa', 'EUA', 'Europa',\n",
              "       'Japão', 'Restante do mundo', 'Global'],\n",
              "      dtype='object')"
            ]
          },
          "metadata": {},
          "execution_count": 96
        }
      ]
    },
    {
      "cell_type": "code",
      "source": [
        "x_df = df.iloc[:, 0:8].values\n",
        "x_df"
      ],
      "metadata": {
        "colab": {
          "base_uri": "https://localhost:8080/"
        },
        "id": "890CPAus_vis",
        "outputId": "82668cba-6610-4e09-9a3d-998979471de4"
      },
      "execution_count": null,
      "outputs": [
        {
          "output_type": "execute_result",
          "data": {
            "text/plain": [
              "array([['Grand Theft Auto V', 2014.0, 'Action', ..., 9.71, 0.6, 3.02],\n",
              "       ['Call of Duty: Black Ops 3', 2015.0, 'Shooter', ..., 6.05, 0.41,\n",
              "        2.44],\n",
              "       ['Red Dead Redemption 2', 2018.0, 'Action-Adventure', ..., 6.21,\n",
              "        0.21, 2.26],\n",
              "       ...,\n",
              "       ['The Mummy Demastered', 2015.9660606060606, 'Action', ..., 0.0,\n",
              "        0.0, 0.0],\n",
              "       ['Project Nimbus: Code Mirai', 2015.9660606060606, 'Action', ...,\n",
              "        0.0, 0.0, 0.0],\n",
              "       ['Battle Chef Brigade', 2015.9660606060606, 'Action', ..., 0.0,\n",
              "        0.0, 0.0]], dtype=object)"
            ]
          },
          "metadata": {},
          "execution_count": 97
        }
      ]
    },
    {
      "cell_type": "code",
      "source": [
        "y_df = df.iloc[:, 8].values\n",
        "y_df"
      ],
      "metadata": {
        "colab": {
          "base_uri": "https://localhost:8080/"
        },
        "id": "gsizd6gBARcb",
        "outputId": "9976067a-bea8-4c27-c219-216c308fbd5e"
      },
      "execution_count": null,
      "outputs": [
        {
          "output_type": "execute_result",
          "data": {
            "text/plain": [
              "array([19.39, 15.09, 13.94, ...,  0.  ,  0.  ,  0.  ])"
            ]
          },
          "metadata": {},
          "execution_count": 98
        }
      ]
    },
    {
      "cell_type": "code",
      "source": [
        "# Importando o LabelEncoder\n",
        "from sklearn.preprocessing import LabelEncoder\n",
        "\n",
        "# Fazendo o teste inicial\n",
        "label_encoder_teste = LabelEncoder()"
      ],
      "metadata": {
        "id": "F34I0XLNYYDT"
      },
      "execution_count": null,
      "outputs": []
    },
    {
      "cell_type": "code",
      "source": [
        "x_df[:,3]"
      ],
      "metadata": {
        "colab": {
          "base_uri": "https://localhost:8080/"
        },
        "id": "YSYygTUDaGGN",
        "outputId": "9f82a6fa-3d21-4740-9c4c-fef87093da15"
      },
      "execution_count": null,
      "outputs": [
        {
          "output_type": "execute_result",
          "data": {
            "text/plain": [
              "array(['Rockstar Games', 'Activision', 'Rockstar Games', ..., nan, nan,\n",
              "       nan], dtype=object)"
            ]
          },
          "metadata": {},
          "execution_count": 100
        }
      ]
    },
    {
      "cell_type": "markdown",
      "source": [
        "teste"
      ],
      "metadata": {
        "id": "kEYXetn7Z3W6"
      }
    },
    {
      "cell_type": "code",
      "source": [
        "# substituição de Grand Theft Auto V = 334, Call of Duty: Black Ops 3 = 124, Red Dead Redemption 2 = 657, etc.\n",
        "teste = label_encoder_teste.fit_transform(x_df[:,0])\n",
        "teste"
      ],
      "metadata": {
        "colab": {
          "base_uri": "https://localhost:8080/"
        },
        "id": "ne2w5YdEnsVX",
        "outputId": "a196f45c-0c22-4724-d26c-b5979bfb1cd2"
      },
      "execution_count": null,
      "outputs": [
        {
          "output_type": "execute_result",
          "data": {
            "text/plain": [
              "array([334, 124, 657, ..., 850, 619,  81])"
            ]
          },
          "metadata": {},
          "execution_count": 101
        }
      ]
    },
    {
      "cell_type": "code",
      "source": [
        "# Label_Encoder = Objeto sabe como entender as palavras\n",
        "\n",
        "label_encoder_Jogos = LabelEncoder ()\n",
        "label_encoder_Gênero = LabelEncoder ()\n",
        "label_encoder_Empresa = LabelEncoder()"
      ],
      "metadata": {
        "id": "RWleAfLHoqz1"
      },
      "execution_count": null,
      "outputs": []
    },
    {
      "cell_type": "code",
      "source": [
        "# Codificar o Label Encoder nas seguintes colunas\n",
        "x_df[:,0] = label_encoder_Jogos.fit_transform(x_df[:,0])\n",
        "x_df[:,2] = label_encoder_Gênero.fit_transform(x_df[:,2])\n",
        "x_df[:,3] = label_encoder_Empresa.fit_transform(x_df[:,3])\n",
        "x_df"
      ],
      "metadata": {
        "colab": {
          "base_uri": "https://localhost:8080/"
        },
        "id": "Mph6B-pUpDr5",
        "outputId": "af55fe04-008b-47da-9143-a838265c6a44"
      },
      "execution_count": null,
      "outputs": [
        {
          "output_type": "execute_result",
          "data": {
            "text/plain": [
              "array([[334, 2014.0, 0, ..., 9.71, 0.6, 3.02],\n",
              "       [124, 2015.0, 12, ..., 6.05, 0.41, 2.44],\n",
              "       [657, 2018.0, 1, ..., 6.21, 0.21, 2.26],\n",
              "       ...,\n",
              "       [850, 2015.9660606060606, 0, ..., 0.0, 0.0, 0.0],\n",
              "       [619, 2015.9660606060606, 0, ..., 0.0, 0.0, 0.0],\n",
              "       [81, 2015.9660606060606, 0, ..., 0.0, 0.0, 0.0]], dtype=object)"
            ]
          },
          "metadata": {},
          "execution_count": 103
        }
      ]
    },
    {
      "cell_type": "code",
      "source": [
        "x_df"
      ],
      "metadata": {
        "colab": {
          "base_uri": "https://localhost:8080/"
        },
        "id": "GyEPDZcikJ4-",
        "outputId": "31ead08e-17fc-474d-9466-e90c4714048c"
      },
      "execution_count": null,
      "outputs": [
        {
          "output_type": "execute_result",
          "data": {
            "text/plain": [
              "array([[334, 2014.0, 0, ..., 9.71, 0.6, 3.02],\n",
              "       [124, 2015.0, 12, ..., 6.05, 0.41, 2.44],\n",
              "       [657, 2018.0, 1, ..., 6.21, 0.21, 2.26],\n",
              "       ...,\n",
              "       [850, 2015.9660606060606, 0, ..., 0.0, 0.0, 0.0],\n",
              "       [619, 2015.9660606060606, 0, ..., 0.0, 0.0, 0.0],\n",
              "       [81, 2015.9660606060606, 0, ..., 0.0, 0.0, 0.0]], dtype=object)"
            ]
          },
          "metadata": {},
          "execution_count": 104
        }
      ]
    },
    {
      "cell_type": "markdown",
      "source": [
        "# Escalonamento de valores\n",
        "\n",
        "Fórmula = valor = (valor — média) / desvioPadão"
      ],
      "metadata": {
        "id": "_wEpjeMJyTy-"
      }
    },
    {
      "cell_type": "code",
      "source": [
        "from sklearn.preprocessing import StandardScaler\n",
        "scaler_df = StandardScaler()\n",
        "x_df = scaler_df.fit_transform(x_df)"
      ],
      "metadata": {
        "id": "zg63XVF9yX-Z"
      },
      "execution_count": null,
      "outputs": []
    },
    {
      "cell_type": "code",
      "source": [
        "x_df[0]"
      ],
      "metadata": {
        "colab": {
          "base_uri": "https://localhost:8080/"
        },
        "id": "ycCo-I8rynZU",
        "outputId": "1db0e185-94ae-447d-dd41-a2297a276f41"
      },
      "execution_count": null,
      "outputs": [
        {
          "output_type": "execute_result",
          "data": {
            "text/plain": [
              "array([-0.58614881, -1.78740673, -1.17035763,  0.25460275, 10.30194664,\n",
              "       11.93940042,  5.17803545, 11.65078179])"
            ]
          },
          "metadata": {},
          "execution_count": 106
        }
      ]
    }
  ]
}